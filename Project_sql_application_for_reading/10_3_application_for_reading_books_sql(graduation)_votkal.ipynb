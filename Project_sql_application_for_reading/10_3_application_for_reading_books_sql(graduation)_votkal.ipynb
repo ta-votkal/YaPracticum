{
 "cells": [
  {
   "cell_type": "markdown",
   "metadata": {},
   "source": [
    "# Приложение для чтения книг\n",
    "***Цель исследования:***  анализ информации о книгах, издателях авторах, пользовательских обзорах, содержащихся в приобретенной базе данных книг для формирования предложения по новому приложению для чтения книг.\n",
    "\n",
    "***Описание исходных данных:*** \n",
    "\n",
    "1) Таблица `books`: содержит данные о книгах.\n",
    "- `book_id` — идентификатор книги;\n",
    "- `author_id` — идентификатор автора;\n",
    "- `title` — название книги;\n",
    "- `num_pages` — количество страниц;\n",
    "- `publication_date` — дата публикации книги;\n",
    "- `publisher_id` — идентификатор издателя.\n",
    "\n",
    "2) Таблица `authors`: содержит данные об авторах:\n",
    "- `author_id` — идентификатор автора;\n",
    "- `author` — имя автора.\n",
    "\n",
    "3) Таблица `publishers`: содержит данные об издательствах:\n",
    "- `publisher_id` — идентификатор издательства;\n",
    "- `publisher` — название издательства;\n",
    "\n",
    "4) Таблица `ratings`: содержит данные о пользовательских оценках книг:\n",
    "- `rating_id` — идентификатор оценки;\n",
    "- `book_id` — идентификатор книги;\n",
    "- `username` — имя пользователя, оставившего оценку;\n",
    "- `rating` — оценка книги.\n",
    "\n",
    "5) Таблица `reviews`: содержит данные о пользовательских обзорах на книги:\n",
    "- `review_id` — идентификатор обзора;\n",
    "- `book_id` — идентификатор книги;\n",
    "- `username` — имя пользователя, написавшего обзор;\n",
    "- `text` — текст обзора.\n",
    "\n",
    "Схема данных: таблица `books` связана с:\n",
    "- `ratings` и `reviews` через внешний для них ключ `book_id`;\n",
    "- `authors` через свой первичный ключ `author_id`;\n",
    "- `publishers` через свой первичный ключ `publisher_id`.\n",
    "\n",
    "\n",
    "***Шаги исследования:***\n",
    "1. Загрузка и исследование данных.\n",
    "2. Количество книг, вышедших после 1 января 2000 года.\n",
    "3. Количество обзоров и средняя оценка для каждой книги.\n",
    "4. Издательство, которое выпустило наибольшее число книг\n",
    "5. Среднее количество обзоров от пользователей, которые поставили больше 50 оценок"
   ]
  },
  {
   "cell_type": "markdown",
   "metadata": {},
   "source": [
    "## Загрузка и исследование данных"
   ]
  },
  {
   "cell_type": "code",
   "execution_count": 1,
   "metadata": {},
   "outputs": [],
   "source": [
    "# импортируем библиотеки\n",
    "import pandas as pd\n",
    "from sqlalchemy import create_engine\n",
    "# устанавливаем параметры\n",
    "db_config = {'user': 'praktikum_student', # имя пользователя\n",
    "'pwd': '-censored-', # пароль\n",
    "'host': '-censored-',\n",
    "'port': '-censored-', # порт подключения\n",
    "'db': '-censored-'} # название базы данных\n",
    "connection_string = 'postgresql://{}:{}@{}:{}/{}'.format(db_config['user'],\n",
    " db_config['pwd'],\n",
    " db_config['host'],\n",
    " db_config['port'],\n",
    " db_config['db'])\n",
    "# сохраняем коннектор\n",
    "engine = create_engine(connection_string, connect_args={'sslmode':'require'}) "
   ]
  },
  {
   "cell_type": "code",
   "execution_count": 2,
   "metadata": {},
   "outputs": [],
   "source": [
    "# функция для загрузки данных из sql базы\n",
    "def select(sql):\n",
    "    return pd.io.sql.read_sql(sql, con = engine) "
   ]
  },
  {
   "cell_type": "code",
   "execution_count": 3,
   "metadata": {
    "scrolled": true
   },
   "outputs": [
    {
     "data": {
      "text/html": [
       "<div>\n",
       "<style scoped>\n",
       "    .dataframe tbody tr th:only-of-type {\n",
       "        vertical-align: middle;\n",
       "    }\n",
       "\n",
       "    .dataframe tbody tr th {\n",
       "        vertical-align: top;\n",
       "    }\n",
       "\n",
       "    .dataframe thead th {\n",
       "        text-align: right;\n",
       "    }\n",
       "</style>\n",
       "<table border=\"1\" class=\"dataframe\">\n",
       "  <thead>\n",
       "    <tr style=\"text-align: right;\">\n",
       "      <th></th>\n",
       "      <th>book_id</th>\n",
       "      <th>author_id</th>\n",
       "      <th>title</th>\n",
       "      <th>num_pages</th>\n",
       "      <th>publication_date</th>\n",
       "      <th>publisher_id</th>\n",
       "    </tr>\n",
       "  </thead>\n",
       "  <tbody>\n",
       "    <tr>\n",
       "      <th>0</th>\n",
       "      <td>1</td>\n",
       "      <td>546</td>\n",
       "      <td>'Salem's Lot</td>\n",
       "      <td>594</td>\n",
       "      <td>2005-11-01</td>\n",
       "      <td>93</td>\n",
       "    </tr>\n",
       "    <tr>\n",
       "      <th>1</th>\n",
       "      <td>2</td>\n",
       "      <td>465</td>\n",
       "      <td>1 000 Places to See Before You Die</td>\n",
       "      <td>992</td>\n",
       "      <td>2003-05-22</td>\n",
       "      <td>336</td>\n",
       "    </tr>\n",
       "    <tr>\n",
       "      <th>2</th>\n",
       "      <td>3</td>\n",
       "      <td>407</td>\n",
       "      <td>13 Little Blue Envelopes (Little Blue Envelope...</td>\n",
       "      <td>322</td>\n",
       "      <td>2010-12-21</td>\n",
       "      <td>135</td>\n",
       "    </tr>\n",
       "    <tr>\n",
       "      <th>3</th>\n",
       "      <td>4</td>\n",
       "      <td>82</td>\n",
       "      <td>1491: New Revelations of the Americas Before C...</td>\n",
       "      <td>541</td>\n",
       "      <td>2006-10-10</td>\n",
       "      <td>309</td>\n",
       "    </tr>\n",
       "    <tr>\n",
       "      <th>4</th>\n",
       "      <td>5</td>\n",
       "      <td>125</td>\n",
       "      <td>1776</td>\n",
       "      <td>386</td>\n",
       "      <td>2006-07-04</td>\n",
       "      <td>268</td>\n",
       "    </tr>\n",
       "  </tbody>\n",
       "</table>\n",
       "</div>"
      ],
      "text/plain": [
       "   book_id  author_id                                              title  \\\n",
       "0        1        546                                       'Salem's Lot   \n",
       "1        2        465                 1 000 Places to See Before You Die   \n",
       "2        3        407  13 Little Blue Envelopes (Little Blue Envelope...   \n",
       "3        4         82  1491: New Revelations of the Americas Before C...   \n",
       "4        5        125                                               1776   \n",
       "\n",
       "   num_pages publication_date  publisher_id  \n",
       "0        594       2005-11-01            93  \n",
       "1        992       2003-05-22           336  \n",
       "2        322       2010-12-21           135  \n",
       "3        541       2006-10-10           309  \n",
       "4        386       2006-07-04           268  "
      ]
     },
     "execution_count": 3,
     "metadata": {},
     "output_type": "execute_result"
    }
   ],
   "source": [
    "# вывод первых строк таблицы с книгами\n",
    "sql_b = '''\n",
    "        SELECT *\n",
    "        FROM books\n",
    "        LIMIT 5\n",
    "        '''\n",
    "select(sql_b)"
   ]
  },
  {
   "cell_type": "code",
   "execution_count": 4,
   "metadata": {
    "scrolled": true
   },
   "outputs": [
    {
     "data": {
      "text/html": [
       "<div>\n",
       "<style scoped>\n",
       "    .dataframe tbody tr th:only-of-type {\n",
       "        vertical-align: middle;\n",
       "    }\n",
       "\n",
       "    .dataframe tbody tr th {\n",
       "        vertical-align: top;\n",
       "    }\n",
       "\n",
       "    .dataframe thead th {\n",
       "        text-align: right;\n",
       "    }\n",
       "</style>\n",
       "<table border=\"1\" class=\"dataframe\">\n",
       "  <thead>\n",
       "    <tr style=\"text-align: right;\">\n",
       "      <th></th>\n",
       "      <th>rows</th>\n",
       "      <th>books_uniq</th>\n",
       "      <th>titles_uniq</th>\n",
       "      <th>author_uniq</th>\n",
       "      <th>publisher_uniq</th>\n",
       "      <th>latest_date</th>\n",
       "      <th>earliest_date</th>\n",
       "    </tr>\n",
       "  </thead>\n",
       "  <tbody>\n",
       "    <tr>\n",
       "      <th>0</th>\n",
       "      <td>1000</td>\n",
       "      <td>1000</td>\n",
       "      <td>999</td>\n",
       "      <td>636</td>\n",
       "      <td>340</td>\n",
       "      <td>2020-03-31</td>\n",
       "      <td>1952-12-01</td>\n",
       "    </tr>\n",
       "  </tbody>\n",
       "</table>\n",
       "</div>"
      ],
      "text/plain": [
       "   rows  books_uniq  titles_uniq  author_uniq  publisher_uniq latest_date  \\\n",
       "0  1000        1000          999          636             340  2020-03-31   \n",
       "\n",
       "  earliest_date  \n",
       "0    1952-12-01  "
      ]
     },
     "execution_count": 4,
     "metadata": {},
     "output_type": "execute_result"
    }
   ],
   "source": [
    "# подсчет количества строки и уникальных значений\n",
    "sql_b_1 = '''\n",
    "        SELECT  COUNT(*) AS rows,\n",
    "                COUNT(DISTINCT book_id) AS books_uniq,\n",
    "                COUNT(DISTINCT title) AS titles_uniq,\n",
    "                COUNT(DISTINCT author_id) AS author_uniq,\n",
    "                COUNT(DISTINCT publisher_id) AS publisher_uniq,\n",
    "                MAX(publication_date) AS latest_date,\n",
    "                MIN(publication_date) AS earliest_date\n",
    "        FROM books\n",
    "        '''\n",
    "select(sql_b_1)"
   ]
  },
  {
   "cell_type": "code",
   "execution_count": 5,
   "metadata": {
    "scrolled": true
   },
   "outputs": [
    {
     "data": {
      "text/html": [
       "<div>\n",
       "<style scoped>\n",
       "    .dataframe tbody tr th:only-of-type {\n",
       "        vertical-align: middle;\n",
       "    }\n",
       "\n",
       "    .dataframe tbody tr th {\n",
       "        vertical-align: top;\n",
       "    }\n",
       "\n",
       "    .dataframe thead th {\n",
       "        text-align: right;\n",
       "    }\n",
       "</style>\n",
       "<table border=\"1\" class=\"dataframe\">\n",
       "  <thead>\n",
       "    <tr style=\"text-align: right;\">\n",
       "      <th></th>\n",
       "      <th>title</th>\n",
       "      <th>count</th>\n",
       "    </tr>\n",
       "  </thead>\n",
       "  <tbody>\n",
       "    <tr>\n",
       "      <th>0</th>\n",
       "      <td>Memoirs of a Geisha</td>\n",
       "      <td>2</td>\n",
       "    </tr>\n",
       "  </tbody>\n",
       "</table>\n",
       "</div>"
      ],
      "text/plain": [
       "                 title  count\n",
       "0  Memoirs of a Geisha      2"
      ]
     },
     "execution_count": 5,
     "metadata": {},
     "output_type": "execute_result"
    }
   ],
   "source": [
    "# подсчет количества строки и уникальных значений\n",
    "sql_b_dup = '''\n",
    "        SELECT  title,\n",
    "                COUNT(book_id)\n",
    "        FROM books\n",
    "        GROUP BY title\n",
    "        HAVING COUNT(book_id)>1\n",
    "        '''\n",
    "select(sql_b_dup)"
   ]
  },
  {
   "cell_type": "code",
   "execution_count": 6,
   "metadata": {
    "scrolled": true
   },
   "outputs": [
    {
     "data": {
      "text/html": [
       "<div>\n",
       "<style scoped>\n",
       "    .dataframe tbody tr th:only-of-type {\n",
       "        vertical-align: middle;\n",
       "    }\n",
       "\n",
       "    .dataframe tbody tr th {\n",
       "        vertical-align: top;\n",
       "    }\n",
       "\n",
       "    .dataframe thead th {\n",
       "        text-align: right;\n",
       "    }\n",
       "</style>\n",
       "<table border=\"1\" class=\"dataframe\">\n",
       "  <thead>\n",
       "    <tr style=\"text-align: right;\">\n",
       "      <th></th>\n",
       "      <th>book_id</th>\n",
       "      <th>author_id</th>\n",
       "      <th>title</th>\n",
       "      <th>num_pages</th>\n",
       "      <th>publication_date</th>\n",
       "      <th>publisher_id</th>\n",
       "    </tr>\n",
       "  </thead>\n",
       "  <tbody>\n",
       "    <tr>\n",
       "      <th>0</th>\n",
       "      <td>426</td>\n",
       "      <td>39</td>\n",
       "      <td>Memoirs of a Geisha</td>\n",
       "      <td>434</td>\n",
       "      <td>2005-11-15</td>\n",
       "      <td>241</td>\n",
       "    </tr>\n",
       "    <tr>\n",
       "      <th>1</th>\n",
       "      <td>427</td>\n",
       "      <td>39</td>\n",
       "      <td>Memoirs of a Geisha</td>\n",
       "      <td>503</td>\n",
       "      <td>2005-11-22</td>\n",
       "      <td>311</td>\n",
       "    </tr>\n",
       "  </tbody>\n",
       "</table>\n",
       "</div>"
      ],
      "text/plain": [
       "   book_id  author_id                title  num_pages publication_date  \\\n",
       "0      426         39  Memoirs of a Geisha        434       2005-11-15   \n",
       "1      427         39  Memoirs of a Geisha        503       2005-11-22   \n",
       "\n",
       "   publisher_id  \n",
       "0           241  \n",
       "1           311  "
      ]
     },
     "execution_count": 6,
     "metadata": {},
     "output_type": "execute_result"
    }
   ],
   "source": [
    "# подсчет количества строки и уникальных значений\n",
    "sql_b_dup1 = '''\n",
    "        SELECT  *\n",
    "        FROM books\n",
    "        WHERE title =  'Memoirs of a Geisha'\n",
    "        '''\n",
    "select(sql_b_dup1)"
   ]
  },
  {
   "cell_type": "markdown",
   "metadata": {},
   "source": [
    "В данных содержится информация о 1000 книг, одна из которых переиздавалась дважды, написанных 636 авторами, выпущенных с 1952 по 2020 год, в 340 издательствах."
   ]
  },
  {
   "cell_type": "code",
   "execution_count": 7,
   "metadata": {
    "scrolled": true
   },
   "outputs": [
    {
     "data": {
      "text/html": [
       "<div>\n",
       "<style scoped>\n",
       "    .dataframe tbody tr th:only-of-type {\n",
       "        vertical-align: middle;\n",
       "    }\n",
       "\n",
       "    .dataframe tbody tr th {\n",
       "        vertical-align: top;\n",
       "    }\n",
       "\n",
       "    .dataframe thead th {\n",
       "        text-align: right;\n",
       "    }\n",
       "</style>\n",
       "<table border=\"1\" class=\"dataframe\">\n",
       "  <thead>\n",
       "    <tr style=\"text-align: right;\">\n",
       "      <th></th>\n",
       "      <th>author_id</th>\n",
       "      <th>author</th>\n",
       "    </tr>\n",
       "  </thead>\n",
       "  <tbody>\n",
       "    <tr>\n",
       "      <th>0</th>\n",
       "      <td>1</td>\n",
       "      <td>A.S. Byatt</td>\n",
       "    </tr>\n",
       "    <tr>\n",
       "      <th>1</th>\n",
       "      <td>2</td>\n",
       "      <td>Aesop/Laura Harris/Laura Gibbs</td>\n",
       "    </tr>\n",
       "    <tr>\n",
       "      <th>2</th>\n",
       "      <td>3</td>\n",
       "      <td>Agatha Christie</td>\n",
       "    </tr>\n",
       "    <tr>\n",
       "      <th>3</th>\n",
       "      <td>4</td>\n",
       "      <td>Alan Brennert</td>\n",
       "    </tr>\n",
       "    <tr>\n",
       "      <th>4</th>\n",
       "      <td>5</td>\n",
       "      <td>Alan Moore/David   Lloyd</td>\n",
       "    </tr>\n",
       "  </tbody>\n",
       "</table>\n",
       "</div>"
      ],
      "text/plain": [
       "   author_id                          author\n",
       "0          1                      A.S. Byatt\n",
       "1          2  Aesop/Laura Harris/Laura Gibbs\n",
       "2          3                 Agatha Christie\n",
       "3          4                   Alan Brennert\n",
       "4          5        Alan Moore/David   Lloyd"
      ]
     },
     "execution_count": 7,
     "metadata": {},
     "output_type": "execute_result"
    }
   ],
   "source": [
    "# вывод первых строк таблицы с авторами\n",
    "sql_a = '''\n",
    "        SELECT *\n",
    "        FROM authors\n",
    "        LIMIT 5\n",
    "        '''\n",
    "select(sql_a)"
   ]
  },
  {
   "cell_type": "code",
   "execution_count": 8,
   "metadata": {
    "scrolled": true
   },
   "outputs": [
    {
     "data": {
      "text/html": [
       "<div>\n",
       "<style scoped>\n",
       "    .dataframe tbody tr th:only-of-type {\n",
       "        vertical-align: middle;\n",
       "    }\n",
       "\n",
       "    .dataframe tbody tr th {\n",
       "        vertical-align: top;\n",
       "    }\n",
       "\n",
       "    .dataframe thead th {\n",
       "        text-align: right;\n",
       "    }\n",
       "</style>\n",
       "<table border=\"1\" class=\"dataframe\">\n",
       "  <thead>\n",
       "    <tr style=\"text-align: right;\">\n",
       "      <th></th>\n",
       "      <th>rows</th>\n",
       "      <th>author_uniq</th>\n",
       "    </tr>\n",
       "  </thead>\n",
       "  <tbody>\n",
       "    <tr>\n",
       "      <th>0</th>\n",
       "      <td>636</td>\n",
       "      <td>636</td>\n",
       "    </tr>\n",
       "  </tbody>\n",
       "</table>\n",
       "</div>"
      ],
      "text/plain": [
       "   rows  author_uniq\n",
       "0   636          636"
      ]
     },
     "execution_count": 8,
     "metadata": {},
     "output_type": "execute_result"
    }
   ],
   "source": [
    "# подсчет количества строки и уникальных значений\n",
    "sql_a_1 = '''\n",
    "        SELECT  COUNT(*) AS rows,\n",
    "                COUNT(DISTINCT author) AS author_uniq\n",
    "        FROM authors\n",
    "        '''\n",
    "select(sql_a_1)"
   ]
  },
  {
   "cell_type": "markdown",
   "metadata": {},
   "source": [
    "Количество уникальных авторов совпадает с их уникальным количеством в таблице с книгами"
   ]
  },
  {
   "cell_type": "code",
   "execution_count": 9,
   "metadata": {
    "scrolled": false
   },
   "outputs": [
    {
     "data": {
      "text/html": [
       "<div>\n",
       "<style scoped>\n",
       "    .dataframe tbody tr th:only-of-type {\n",
       "        vertical-align: middle;\n",
       "    }\n",
       "\n",
       "    .dataframe tbody tr th {\n",
       "        vertical-align: top;\n",
       "    }\n",
       "\n",
       "    .dataframe thead th {\n",
       "        text-align: right;\n",
       "    }\n",
       "</style>\n",
       "<table border=\"1\" class=\"dataframe\">\n",
       "  <thead>\n",
       "    <tr style=\"text-align: right;\">\n",
       "      <th></th>\n",
       "      <th>publisher_id</th>\n",
       "      <th>publisher</th>\n",
       "    </tr>\n",
       "  </thead>\n",
       "  <tbody>\n",
       "    <tr>\n",
       "      <th>0</th>\n",
       "      <td>1</td>\n",
       "      <td>Ace</td>\n",
       "    </tr>\n",
       "    <tr>\n",
       "      <th>1</th>\n",
       "      <td>2</td>\n",
       "      <td>Ace Book</td>\n",
       "    </tr>\n",
       "    <tr>\n",
       "      <th>2</th>\n",
       "      <td>3</td>\n",
       "      <td>Ace Books</td>\n",
       "    </tr>\n",
       "    <tr>\n",
       "      <th>3</th>\n",
       "      <td>4</td>\n",
       "      <td>Ace Hardcover</td>\n",
       "    </tr>\n",
       "    <tr>\n",
       "      <th>4</th>\n",
       "      <td>5</td>\n",
       "      <td>Addison Wesley Publishing Company</td>\n",
       "    </tr>\n",
       "  </tbody>\n",
       "</table>\n",
       "</div>"
      ],
      "text/plain": [
       "   publisher_id                          publisher\n",
       "0             1                                Ace\n",
       "1             2                           Ace Book\n",
       "2             3                          Ace Books\n",
       "3             4                      Ace Hardcover\n",
       "4             5  Addison Wesley Publishing Company"
      ]
     },
     "execution_count": 9,
     "metadata": {},
     "output_type": "execute_result"
    }
   ],
   "source": [
    "# вывод первых строк таблицы с издательствами\n",
    "sql_p = '''\n",
    "        SELECT *\n",
    "        FROM publishers\n",
    "        LIMIT 5\n",
    "        '''\n",
    "select(sql_p)"
   ]
  },
  {
   "cell_type": "code",
   "execution_count": 10,
   "metadata": {
    "scrolled": false
   },
   "outputs": [
    {
     "data": {
      "text/html": [
       "<div>\n",
       "<style scoped>\n",
       "    .dataframe tbody tr th:only-of-type {\n",
       "        vertical-align: middle;\n",
       "    }\n",
       "\n",
       "    .dataframe tbody tr th {\n",
       "        vertical-align: top;\n",
       "    }\n",
       "\n",
       "    .dataframe thead th {\n",
       "        text-align: right;\n",
       "    }\n",
       "</style>\n",
       "<table border=\"1\" class=\"dataframe\">\n",
       "  <thead>\n",
       "    <tr style=\"text-align: right;\">\n",
       "      <th></th>\n",
       "      <th>rows</th>\n",
       "      <th>publisher_uniq</th>\n",
       "    </tr>\n",
       "  </thead>\n",
       "  <tbody>\n",
       "    <tr>\n",
       "      <th>0</th>\n",
       "      <td>340</td>\n",
       "      <td>340</td>\n",
       "    </tr>\n",
       "  </tbody>\n",
       "</table>\n",
       "</div>"
      ],
      "text/plain": [
       "   rows  publisher_uniq\n",
       "0   340             340"
      ]
     },
     "execution_count": 10,
     "metadata": {},
     "output_type": "execute_result"
    }
   ],
   "source": [
    "# подсчет количества строки и уникальных значений\n",
    "sql_p_1 = '''\n",
    "        SELECT  COUNT(*) AS rows,\n",
    "                COUNT(DISTINCT publisher) AS publisher_uniq\n",
    "        FROM publishers\n",
    "        '''\n",
    "select(sql_p_1)"
   ]
  },
  {
   "cell_type": "markdown",
   "metadata": {},
   "source": [
    "Количество уникальных издательств совпадает с их уникальным количеством в таблице с книгами"
   ]
  },
  {
   "cell_type": "code",
   "execution_count": 11,
   "metadata": {
    "scrolled": true
   },
   "outputs": [
    {
     "data": {
      "text/html": [
       "<div>\n",
       "<style scoped>\n",
       "    .dataframe tbody tr th:only-of-type {\n",
       "        vertical-align: middle;\n",
       "    }\n",
       "\n",
       "    .dataframe tbody tr th {\n",
       "        vertical-align: top;\n",
       "    }\n",
       "\n",
       "    .dataframe thead th {\n",
       "        text-align: right;\n",
       "    }\n",
       "</style>\n",
       "<table border=\"1\" class=\"dataframe\">\n",
       "  <thead>\n",
       "    <tr style=\"text-align: right;\">\n",
       "      <th></th>\n",
       "      <th>rating_id</th>\n",
       "      <th>book_id</th>\n",
       "      <th>username</th>\n",
       "      <th>rating</th>\n",
       "    </tr>\n",
       "  </thead>\n",
       "  <tbody>\n",
       "    <tr>\n",
       "      <th>0</th>\n",
       "      <td>1</td>\n",
       "      <td>1</td>\n",
       "      <td>ryanfranco</td>\n",
       "      <td>4</td>\n",
       "    </tr>\n",
       "    <tr>\n",
       "      <th>1</th>\n",
       "      <td>2</td>\n",
       "      <td>1</td>\n",
       "      <td>grantpatricia</td>\n",
       "      <td>2</td>\n",
       "    </tr>\n",
       "    <tr>\n",
       "      <th>2</th>\n",
       "      <td>3</td>\n",
       "      <td>1</td>\n",
       "      <td>brandtandrea</td>\n",
       "      <td>5</td>\n",
       "    </tr>\n",
       "    <tr>\n",
       "      <th>3</th>\n",
       "      <td>4</td>\n",
       "      <td>2</td>\n",
       "      <td>lorichen</td>\n",
       "      <td>3</td>\n",
       "    </tr>\n",
       "    <tr>\n",
       "      <th>4</th>\n",
       "      <td>5</td>\n",
       "      <td>2</td>\n",
       "      <td>mariokeller</td>\n",
       "      <td>2</td>\n",
       "    </tr>\n",
       "  </tbody>\n",
       "</table>\n",
       "</div>"
      ],
      "text/plain": [
       "   rating_id  book_id       username  rating\n",
       "0          1        1     ryanfranco       4\n",
       "1          2        1  grantpatricia       2\n",
       "2          3        1   brandtandrea       5\n",
       "3          4        2       lorichen       3\n",
       "4          5        2    mariokeller       2"
      ]
     },
     "execution_count": 11,
     "metadata": {},
     "output_type": "execute_result"
    }
   ],
   "source": [
    "# вывод первых строк таблицы с пользовательскими оценками\n",
    "sql_rt = '''\n",
    "        SELECT *\n",
    "        FROM ratings\n",
    "        LIMIT 5\n",
    "        '''\n",
    "select(sql_rt)"
   ]
  },
  {
   "cell_type": "code",
   "execution_count": 12,
   "metadata": {
    "scrolled": true
   },
   "outputs": [
    {
     "data": {
      "text/html": [
       "<div>\n",
       "<style scoped>\n",
       "    .dataframe tbody tr th:only-of-type {\n",
       "        vertical-align: middle;\n",
       "    }\n",
       "\n",
       "    .dataframe tbody tr th {\n",
       "        vertical-align: top;\n",
       "    }\n",
       "\n",
       "    .dataframe thead th {\n",
       "        text-align: right;\n",
       "    }\n",
       "</style>\n",
       "<table border=\"1\" class=\"dataframe\">\n",
       "  <thead>\n",
       "    <tr style=\"text-align: right;\">\n",
       "      <th></th>\n",
       "      <th>rows</th>\n",
       "      <th>rating_id_uniq</th>\n",
       "      <th>book_id_uniq</th>\n",
       "      <th>username_uniq</th>\n",
       "      <th>max_rating</th>\n",
       "      <th>min_rating</th>\n",
       "    </tr>\n",
       "  </thead>\n",
       "  <tbody>\n",
       "    <tr>\n",
       "      <th>0</th>\n",
       "      <td>6456</td>\n",
       "      <td>6456</td>\n",
       "      <td>1000</td>\n",
       "      <td>160</td>\n",
       "      <td>5</td>\n",
       "      <td>1</td>\n",
       "    </tr>\n",
       "  </tbody>\n",
       "</table>\n",
       "</div>"
      ],
      "text/plain": [
       "   rows  rating_id_uniq  book_id_uniq  username_uniq  max_rating  min_rating\n",
       "0  6456            6456          1000            160           5           1"
      ]
     },
     "execution_count": 12,
     "metadata": {},
     "output_type": "execute_result"
    }
   ],
   "source": [
    "# подсчет количества строки и уникальных значений\n",
    "sql_rt_1 = '''\n",
    "        SELECT  COUNT(*) AS rows,\n",
    "                COUNT(DISTINCT rating_id) AS rating_id_uniq,\n",
    "                COUNT(DISTINCT book_id) AS book_id_uniq,\n",
    "                COUNT(DISTINCT username) AS username_uniq,\n",
    "                MAX(rating) AS max_rating,\n",
    "                MIN(rating) AS min_rating\n",
    "        FROM ratings\n",
    "        '''\n",
    "select(sql_rt_1)"
   ]
  },
  {
   "cell_type": "markdown",
   "metadata": {},
   "source": [
    "Диапазон оценки в рейтинге от 1 до 5. Рейтинг представлен на основе мнения 160 уникальных пользователей для того же количества книг, которое содержится в таблице с книгами. "
   ]
  },
  {
   "cell_type": "code",
   "execution_count": 13,
   "metadata": {
    "scrolled": true
   },
   "outputs": [
    {
     "data": {
      "text/html": [
       "<div>\n",
       "<style scoped>\n",
       "    .dataframe tbody tr th:only-of-type {\n",
       "        vertical-align: middle;\n",
       "    }\n",
       "\n",
       "    .dataframe tbody tr th {\n",
       "        vertical-align: top;\n",
       "    }\n",
       "\n",
       "    .dataframe thead th {\n",
       "        text-align: right;\n",
       "    }\n",
       "</style>\n",
       "<table border=\"1\" class=\"dataframe\">\n",
       "  <thead>\n",
       "    <tr style=\"text-align: right;\">\n",
       "      <th></th>\n",
       "      <th>review_id</th>\n",
       "      <th>book_id</th>\n",
       "      <th>username</th>\n",
       "      <th>text</th>\n",
       "    </tr>\n",
       "  </thead>\n",
       "  <tbody>\n",
       "    <tr>\n",
       "      <th>0</th>\n",
       "      <td>1</td>\n",
       "      <td>1</td>\n",
       "      <td>brandtandrea</td>\n",
       "      <td>Mention society tell send professor analysis. ...</td>\n",
       "    </tr>\n",
       "    <tr>\n",
       "      <th>1</th>\n",
       "      <td>2</td>\n",
       "      <td>1</td>\n",
       "      <td>ryanfranco</td>\n",
       "      <td>Foot glass pretty audience hit themselves. Amo...</td>\n",
       "    </tr>\n",
       "    <tr>\n",
       "      <th>2</th>\n",
       "      <td>3</td>\n",
       "      <td>2</td>\n",
       "      <td>lorichen</td>\n",
       "      <td>Listen treat keep worry. Miss husband tax but ...</td>\n",
       "    </tr>\n",
       "    <tr>\n",
       "      <th>3</th>\n",
       "      <td>4</td>\n",
       "      <td>3</td>\n",
       "      <td>johnsonamanda</td>\n",
       "      <td>Finally month interesting blue could nature cu...</td>\n",
       "    </tr>\n",
       "    <tr>\n",
       "      <th>4</th>\n",
       "      <td>5</td>\n",
       "      <td>3</td>\n",
       "      <td>scotttamara</td>\n",
       "      <td>Nation purpose heavy give wait song will. List...</td>\n",
       "    </tr>\n",
       "  </tbody>\n",
       "</table>\n",
       "</div>"
      ],
      "text/plain": [
       "   review_id  book_id       username  \\\n",
       "0          1        1   brandtandrea   \n",
       "1          2        1     ryanfranco   \n",
       "2          3        2       lorichen   \n",
       "3          4        3  johnsonamanda   \n",
       "4          5        3    scotttamara   \n",
       "\n",
       "                                                text  \n",
       "0  Mention society tell send professor analysis. ...  \n",
       "1  Foot glass pretty audience hit themselves. Amo...  \n",
       "2  Listen treat keep worry. Miss husband tax but ...  \n",
       "3  Finally month interesting blue could nature cu...  \n",
       "4  Nation purpose heavy give wait song will. List...  "
      ]
     },
     "execution_count": 13,
     "metadata": {},
     "output_type": "execute_result"
    }
   ],
   "source": [
    "# вывод первых строк таблицы с обзорами\n",
    "sql_rw = '''\n",
    "        SELECT *\n",
    "        FROM reviews\n",
    "        LIMIT 5\n",
    "        '''\n",
    "select(sql_rw)"
   ]
  },
  {
   "cell_type": "code",
   "execution_count": 14,
   "metadata": {
    "scrolled": false
   },
   "outputs": [
    {
     "data": {
      "text/html": [
       "<div>\n",
       "<style scoped>\n",
       "    .dataframe tbody tr th:only-of-type {\n",
       "        vertical-align: middle;\n",
       "    }\n",
       "\n",
       "    .dataframe tbody tr th {\n",
       "        vertical-align: top;\n",
       "    }\n",
       "\n",
       "    .dataframe thead th {\n",
       "        text-align: right;\n",
       "    }\n",
       "</style>\n",
       "<table border=\"1\" class=\"dataframe\">\n",
       "  <thead>\n",
       "    <tr style=\"text-align: right;\">\n",
       "      <th></th>\n",
       "      <th>rows</th>\n",
       "      <th>review_id_uniq</th>\n",
       "      <th>book_id_uniq</th>\n",
       "      <th>username_uniq</th>\n",
       "      <th>text_uniq</th>\n",
       "    </tr>\n",
       "  </thead>\n",
       "  <tbody>\n",
       "    <tr>\n",
       "      <th>0</th>\n",
       "      <td>2793</td>\n",
       "      <td>2793</td>\n",
       "      <td>994</td>\n",
       "      <td>160</td>\n",
       "      <td>2793</td>\n",
       "    </tr>\n",
       "  </tbody>\n",
       "</table>\n",
       "</div>"
      ],
      "text/plain": [
       "   rows  review_id_uniq  book_id_uniq  username_uniq  text_uniq\n",
       "0  2793            2793           994            160       2793"
      ]
     },
     "execution_count": 14,
     "metadata": {},
     "output_type": "execute_result"
    }
   ],
   "source": [
    "# подсчет количества строки и уникальных значений\n",
    "sql_rw_1 = '''\n",
    "        SELECT  COUNT(*) AS rows,\n",
    "                COUNT(DISTINCT review_id) AS review_id_uniq,\n",
    "                COUNT(DISTINCT book_id) AS book_id_uniq,\n",
    "                COUNT(DISTINCT username) AS username_uniq,\n",
    "                COUNT(DISTINCT text) AS text_uniq\n",
    "        FROM reviews\n",
    "        '''\n",
    "select(sql_rw_1)"
   ]
  },
  {
   "cell_type": "markdown",
   "metadata": {},
   "source": [
    "Такое же количество пользователей, которое оставило оценки, написало 2793 уникальных обзора на 994 книги."
   ]
  },
  {
   "cell_type": "code",
   "execution_count": 15,
   "metadata": {
    "scrolled": false
   },
   "outputs": [
    {
     "data": {
      "text/html": [
       "<div>\n",
       "<style scoped>\n",
       "    .dataframe tbody tr th:only-of-type {\n",
       "        vertical-align: middle;\n",
       "    }\n",
       "\n",
       "    .dataframe tbody tr th {\n",
       "        vertical-align: top;\n",
       "    }\n",
       "\n",
       "    .dataframe thead th {\n",
       "        text-align: right;\n",
       "    }\n",
       "</style>\n",
       "<table border=\"1\" class=\"dataframe\">\n",
       "  <thead>\n",
       "    <tr style=\"text-align: right;\">\n",
       "      <th></th>\n",
       "      <th>rows</th>\n",
       "      <th>book_id_uniq</th>\n",
       "      <th>title_uniq</th>\n",
       "      <th>author_id_uniq</th>\n",
       "      <th>publisher_id_uniq</th>\n",
       "      <th>username_uniq</th>\n",
       "      <th>review_id_uniq</th>\n",
       "      <th>text_uniq</th>\n",
       "      <th>latest_date</th>\n",
       "      <th>earliest_date</th>\n",
       "    </tr>\n",
       "  </thead>\n",
       "  <tbody>\n",
       "    <tr>\n",
       "      <th>0</th>\n",
       "      <td>26167</td>\n",
       "      <td>994</td>\n",
       "      <td>993</td>\n",
       "      <td>630</td>\n",
       "      <td>337</td>\n",
       "      <td>160</td>\n",
       "      <td>2793</td>\n",
       "      <td>2793</td>\n",
       "      <td>2020-03-31</td>\n",
       "      <td>1952-12-01</td>\n",
       "    </tr>\n",
       "  </tbody>\n",
       "</table>\n",
       "</div>"
      ],
      "text/plain": [
       "    rows  book_id_uniq  title_uniq  author_id_uniq  publisher_id_uniq  \\\n",
       "0  26167           994         993             630                337   \n",
       "\n",
       "   username_uniq  review_id_uniq  text_uniq latest_date earliest_date  \n",
       "0            160            2793       2793  2020-03-31    1952-12-01  "
      ]
     },
     "execution_count": 15,
     "metadata": {},
     "output_type": "execute_result"
    }
   ],
   "source": [
    "# вывод сгруппированных показателей\n",
    "sql_comb = '''\n",
    "        SELECT COUNT(*) AS rows,\n",
    "                COUNT(DISTINCT b.book_id) AS book_id_uniq,\n",
    "                COUNT(DISTINCT b.title) AS title_uniq,\n",
    "                COUNT(DISTINCT a.author_id) AS author_id_uniq,\n",
    "                COUNT(DISTINCT p.publisher_id) AS publisher_id_uniq,\n",
    "                COUNT(DISTINCT rt.username) AS username_uniq,\n",
    "                COUNT(DISTINCT rw.review_id) AS review_id_uniq,\n",
    "                COUNT(DISTINCT rw.text) AS text_uniq,\n",
    "                MAX(b.publication_date) AS latest_date,\n",
    "                MIN(b.publication_date) AS earliest_date\n",
    "        FROM books AS b\n",
    "        JOIN authors AS a ON b.author_id = a.author_id\n",
    "        JOIN publishers AS p ON b.publisher_id = p.publisher_id\n",
    "        JOIN ratings AS rt ON b.book_id = rt.book_id\n",
    "        JOIN reviews AS rw ON b.book_id = rw.book_id\n",
    "        '''\n",
    "select(sql_comb)"
   ]
  },
  {
   "cell_type": "code",
   "execution_count": 16,
   "metadata": {
    "scrolled": false
   },
   "outputs": [
    {
     "data": {
      "text/html": [
       "<div>\n",
       "<style scoped>\n",
       "    .dataframe tbody tr th:only-of-type {\n",
       "        vertical-align: middle;\n",
       "    }\n",
       "\n",
       "    .dataframe tbody tr th {\n",
       "        vertical-align: top;\n",
       "    }\n",
       "\n",
       "    .dataframe thead th {\n",
       "        text-align: right;\n",
       "    }\n",
       "</style>\n",
       "<table border=\"1\" class=\"dataframe\">\n",
       "  <thead>\n",
       "    <tr style=\"text-align: right;\">\n",
       "      <th></th>\n",
       "      <th>rows</th>\n",
       "      <th>book_id_uniq</th>\n",
       "      <th>title_uniq</th>\n",
       "      <th>author_id_uniq</th>\n",
       "      <th>publisher_id_uniq</th>\n",
       "    </tr>\n",
       "  </thead>\n",
       "  <tbody>\n",
       "    <tr>\n",
       "      <th>0</th>\n",
       "      <td>1000</td>\n",
       "      <td>1000</td>\n",
       "      <td>999</td>\n",
       "      <td>636</td>\n",
       "      <td>340</td>\n",
       "    </tr>\n",
       "  </tbody>\n",
       "</table>\n",
       "</div>"
      ],
      "text/plain": [
       "   rows  book_id_uniq  title_uniq  author_id_uniq  publisher_id_uniq\n",
       "0  1000          1000         999             636                340"
      ]
     },
     "execution_count": 16,
     "metadata": {},
     "output_type": "execute_result"
    }
   ],
   "source": [
    "# вывод сгруппированных показателей\n",
    "sql_comb = '''\n",
    "        SELECT COUNT(*) AS rows,\n",
    "                COUNT(DISTINCT b.book_id) AS book_id_uniq,\n",
    "                COUNT(DISTINCT b.title) AS title_uniq,\n",
    "                COUNT(DISTINCT a.author_id) AS author_id_uniq,\n",
    "                COUNT(DISTINCT p.publisher_id) AS publisher_id_uniq\n",
    "               \n",
    "        FROM books AS b\n",
    "        JOIN authors AS a ON b.author_id = a.author_id\n",
    "        JOIN publishers AS p ON b.publisher_id = p.publisher_id\n",
    "      \n",
    "        '''\n",
    "select(sql_comb)"
   ]
  },
  {
   "cell_type": "markdown",
   "metadata": {},
   "source": [
    "***Вывод:***\n",
    "- из 1000 уникальных id книг вся информация представлена только для 994 книг, у 6 отсутсвуют обзоры;\n",
    "- книги написаны 636 авторами и выпущены в 340 издательствах в период с 1 декабря 1952 года по 31 марта 2020 года;\n",
    "- 160 пользователей дали на книги 6456 оценок и 2793 обзора."
   ]
  },
  {
   "cell_type": "markdown",
   "metadata": {},
   "source": [
    "## Количество книг, вышедших после 1 января 2000 года"
   ]
  },
  {
   "cell_type": "code",
   "execution_count": 17,
   "metadata": {
    "scrolled": true
   },
   "outputs": [
    {
     "data": {
      "text/html": [
       "<div>\n",
       "<style scoped>\n",
       "    .dataframe tbody tr th:only-of-type {\n",
       "        vertical-align: middle;\n",
       "    }\n",
       "\n",
       "    .dataframe tbody tr th {\n",
       "        vertical-align: top;\n",
       "    }\n",
       "\n",
       "    .dataframe thead th {\n",
       "        text-align: right;\n",
       "    }\n",
       "</style>\n",
       "<table border=\"1\" class=\"dataframe\">\n",
       "  <thead>\n",
       "    <tr style=\"text-align: right;\">\n",
       "      <th></th>\n",
       "      <th>count</th>\n",
       "    </tr>\n",
       "  </thead>\n",
       "  <tbody>\n",
       "    <tr>\n",
       "      <th>0</th>\n",
       "      <td>819</td>\n",
       "    </tr>\n",
       "  </tbody>\n",
       "</table>\n",
       "</div>"
      ],
      "text/plain": [
       "   count\n",
       "0    819"
      ]
     },
     "execution_count": 17,
     "metadata": {},
     "output_type": "execute_result"
    }
   ],
   "source": [
    "query1 = '''\n",
    "        SELECT COUNT(book_id)\n",
    "        FROM books\n",
    "        WHERE publication_date > '2000-01-02 00:00:00'\n",
    "        '''\n",
    "select(query1)"
   ]
  },
  {
   "cell_type": "markdown",
   "metadata": {},
   "source": [
    "***Вывод:***\n",
    "\n",
    "Несмотря на то, что в данных содержится информация о книгах, выпущенных с 1952 года, 82% книг выпущено после 01.01.2000 года."
   ]
  },
  {
   "cell_type": "markdown",
   "metadata": {},
   "source": [
    "## Количество обзоров и средняя оценка для каждой книги"
   ]
  },
  {
   "cell_type": "code",
   "execution_count": 25,
   "metadata": {
    "scrolled": false
   },
   "outputs": [
    {
     "data": {
      "text/html": [
       "<div>\n",
       "<style scoped>\n",
       "    .dataframe tbody tr th:only-of-type {\n",
       "        vertical-align: middle;\n",
       "    }\n",
       "\n",
       "    .dataframe tbody tr th {\n",
       "        vertical-align: top;\n",
       "    }\n",
       "\n",
       "    .dataframe thead th {\n",
       "        text-align: right;\n",
       "    }\n",
       "</style>\n",
       "<table border=\"1\" class=\"dataframe\">\n",
       "  <thead>\n",
       "    <tr style=\"text-align: right;\">\n",
       "      <th></th>\n",
       "      <th>book_id</th>\n",
       "      <th>title</th>\n",
       "      <th>nmb_reviews</th>\n",
       "      <th>avg_rating</th>\n",
       "    </tr>\n",
       "  </thead>\n",
       "  <tbody>\n",
       "    <tr>\n",
       "      <th>0</th>\n",
       "      <td>948</td>\n",
       "      <td>Twilight (Twilight  #1)</td>\n",
       "      <td>7</td>\n",
       "      <td>3.66</td>\n",
       "    </tr>\n",
       "    <tr>\n",
       "      <th>1</th>\n",
       "      <td>302</td>\n",
       "      <td>Harry Potter and the Prisoner of Azkaban (Harr...</td>\n",
       "      <td>6</td>\n",
       "      <td>4.41</td>\n",
       "    </tr>\n",
       "    <tr>\n",
       "      <th>2</th>\n",
       "      <td>299</td>\n",
       "      <td>Harry Potter and the Chamber of Secrets (Harry...</td>\n",
       "      <td>6</td>\n",
       "      <td>4.29</td>\n",
       "    </tr>\n",
       "    <tr>\n",
       "      <th>3</th>\n",
       "      <td>656</td>\n",
       "      <td>The Book Thief</td>\n",
       "      <td>6</td>\n",
       "      <td>4.26</td>\n",
       "    </tr>\n",
       "    <tr>\n",
       "      <th>4</th>\n",
       "      <td>734</td>\n",
       "      <td>The Glass Castle</td>\n",
       "      <td>6</td>\n",
       "      <td>4.21</td>\n",
       "    </tr>\n",
       "    <tr>\n",
       "      <th>...</th>\n",
       "      <td>...</td>\n",
       "      <td>...</td>\n",
       "      <td>...</td>\n",
       "      <td>...</td>\n",
       "    </tr>\n",
       "    <tr>\n",
       "      <th>995</th>\n",
       "      <td>191</td>\n",
       "      <td>Disney's Beauty and the Beast (A Little Golden...</td>\n",
       "      <td>0</td>\n",
       "      <td>4.00</td>\n",
       "    </tr>\n",
       "    <tr>\n",
       "      <th>996</th>\n",
       "      <td>387</td>\n",
       "      <td>Leonardo's Notebooks</td>\n",
       "      <td>0</td>\n",
       "      <td>4.00</td>\n",
       "    </tr>\n",
       "    <tr>\n",
       "      <th>997</th>\n",
       "      <td>221</td>\n",
       "      <td>Essential Tales and Poems</td>\n",
       "      <td>0</td>\n",
       "      <td>4.00</td>\n",
       "    </tr>\n",
       "    <tr>\n",
       "      <th>998</th>\n",
       "      <td>83</td>\n",
       "      <td>Anne Rice's The Vampire Lestat: A Graphic Novel</td>\n",
       "      <td>0</td>\n",
       "      <td>3.67</td>\n",
       "    </tr>\n",
       "    <tr>\n",
       "      <th>999</th>\n",
       "      <td>808</td>\n",
       "      <td>The Natural Way to Draw</td>\n",
       "      <td>0</td>\n",
       "      <td>3.00</td>\n",
       "    </tr>\n",
       "  </tbody>\n",
       "</table>\n",
       "<p>1000 rows × 4 columns</p>\n",
       "</div>"
      ],
      "text/plain": [
       "     book_id                                              title  nmb_reviews  \\\n",
       "0        948                            Twilight (Twilight  #1)            7   \n",
       "1        302  Harry Potter and the Prisoner of Azkaban (Harr...            6   \n",
       "2        299  Harry Potter and the Chamber of Secrets (Harry...            6   \n",
       "3        656                                     The Book Thief            6   \n",
       "4        734                                   The Glass Castle            6   \n",
       "..       ...                                                ...          ...   \n",
       "995      191  Disney's Beauty and the Beast (A Little Golden...            0   \n",
       "996      387                               Leonardo's Notebooks            0   \n",
       "997      221                          Essential Tales and Poems            0   \n",
       "998       83    Anne Rice's The Vampire Lestat: A Graphic Novel            0   \n",
       "999      808                            The Natural Way to Draw            0   \n",
       "\n",
       "     avg_rating  \n",
       "0          3.66  \n",
       "1          4.41  \n",
       "2          4.29  \n",
       "3          4.26  \n",
       "4          4.21  \n",
       "..          ...  \n",
       "995        4.00  \n",
       "996        4.00  \n",
       "997        4.00  \n",
       "998        3.67  \n",
       "999        3.00  \n",
       "\n",
       "[1000 rows x 4 columns]"
      ]
     },
     "execution_count": 25,
     "metadata": {},
     "output_type": "execute_result"
    }
   ],
   "source": [
    "query2 = '''\n",
    "        SELECT b.book_id,\n",
    "                b.title,\n",
    "                COUNT(DISTINCT rw.review_id) AS nmb_reviews,\n",
    "                ROUND(AVG(rt.rating), 2) AS avg_rating\n",
    "        FROM books AS b\n",
    "        LEFT JOIN ratings AS rt ON b.book_id = rt.book_id\n",
    "        LEFT JOIN reviews AS rw ON b.book_id = rw.book_id  \n",
    "        GROUP BY b.book_id, b.title\n",
    "        ORDER BY nmb_reviews DESC, avg_rating DESC\n",
    "        \n",
    "        '''\n",
    "select(query2)\n",
    "\n"
   ]
  },
  {
   "cell_type": "code",
   "execution_count": 19,
   "metadata": {
    "scrolled": false
   },
   "outputs": [
    {
     "data": {
      "text/html": [
       "<div>\n",
       "<style scoped>\n",
       "    .dataframe tbody tr th:only-of-type {\n",
       "        vertical-align: middle;\n",
       "    }\n",
       "\n",
       "    .dataframe tbody tr th {\n",
       "        vertical-align: top;\n",
       "    }\n",
       "\n",
       "    .dataframe thead th {\n",
       "        text-align: right;\n",
       "    }\n",
       "</style>\n",
       "<table border=\"1\" class=\"dataframe\">\n",
       "  <thead>\n",
       "    <tr style=\"text-align: right;\">\n",
       "      <th></th>\n",
       "      <th>nmb_reviews</th>\n",
       "      <th>avg</th>\n",
       "    </tr>\n",
       "  </thead>\n",
       "  <tbody>\n",
       "    <tr>\n",
       "      <th>0</th>\n",
       "      <td>6</td>\n",
       "      <td>3.996000</td>\n",
       "    </tr>\n",
       "    <tr>\n",
       "      <th>1</th>\n",
       "      <td>5</td>\n",
       "      <td>3.957500</td>\n",
       "    </tr>\n",
       "    <tr>\n",
       "      <th>2</th>\n",
       "      <td>0</td>\n",
       "      <td>3.945000</td>\n",
       "    </tr>\n",
       "    <tr>\n",
       "      <th>3</th>\n",
       "      <td>2</td>\n",
       "      <td>3.914369</td>\n",
       "    </tr>\n",
       "    <tr>\n",
       "      <th>4</th>\n",
       "      <td>4</td>\n",
       "      <td>3.908375</td>\n",
       "    </tr>\n",
       "    <tr>\n",
       "      <th>5</th>\n",
       "      <td>3</td>\n",
       "      <td>3.862238</td>\n",
       "    </tr>\n",
       "    <tr>\n",
       "      <th>6</th>\n",
       "      <td>1</td>\n",
       "      <td>3.815135</td>\n",
       "    </tr>\n",
       "    <tr>\n",
       "      <th>7</th>\n",
       "      <td>7</td>\n",
       "      <td>3.660000</td>\n",
       "    </tr>\n",
       "  </tbody>\n",
       "</table>\n",
       "</div>"
      ],
      "text/plain": [
       "   nmb_reviews       avg\n",
       "0            6  3.996000\n",
       "1            5  3.957500\n",
       "2            0  3.945000\n",
       "3            2  3.914369\n",
       "4            4  3.908375\n",
       "5            3  3.862238\n",
       "6            1  3.815135\n",
       "7            7  3.660000"
      ]
     },
     "execution_count": 19,
     "metadata": {},
     "output_type": "execute_result"
    }
   ],
   "source": [
    "# средний рейтинг в зависимости от количества обзоров\n",
    "query2 = '''\n",
    "            WITH top AS (SELECT b.book_id,\n",
    "                                b.title,\n",
    "                                COUNT(DISTINCT rw.review_id) AS nmb_reviews,\n",
    "                                ROUND(AVG(rt.rating), 2) AS rating_avg\n",
    "                        FROM books AS b\n",
    "                        LEFT JOIN ratings AS rt ON b.book_id = rt.book_id\n",
    "                        LEFT JOIN reviews AS rw ON b.book_id = rw.book_id  \n",
    "                        GROUP BY b.book_id, b.title\n",
    "                        ORDER BY rating_avg DESC\n",
    "            )\n",
    "            SELECT nmb_reviews,\n",
    "                    AVG(rating_avg)\n",
    "            FROM top\n",
    "            GROUP BY nmb_reviews\n",
    "            ORDER BY avg DESC\n",
    "        '''\n",
    "select(query2)\n",
    "\n"
   ]
  },
  {
   "cell_type": "code",
   "execution_count": 20,
   "metadata": {
    "scrolled": false
   },
   "outputs": [
    {
     "data": {
      "text/html": [
       "<div>\n",
       "<style scoped>\n",
       "    .dataframe tbody tr th:only-of-type {\n",
       "        vertical-align: middle;\n",
       "    }\n",
       "\n",
       "    .dataframe tbody tr th {\n",
       "        vertical-align: top;\n",
       "    }\n",
       "\n",
       "    .dataframe thead th {\n",
       "        text-align: right;\n",
       "    }\n",
       "</style>\n",
       "<table border=\"1\" class=\"dataframe\">\n",
       "  <thead>\n",
       "    <tr style=\"text-align: right;\">\n",
       "      <th></th>\n",
       "      <th>book_id</th>\n",
       "      <th>author_id</th>\n",
       "      <th>title</th>\n",
       "      <th>num_pages</th>\n",
       "      <th>publication_date</th>\n",
       "      <th>publisher_id</th>\n",
       "      <th>author_id</th>\n",
       "      <th>author</th>\n",
       "      <th>publisher_id</th>\n",
       "      <th>publisher</th>\n",
       "    </tr>\n",
       "  </thead>\n",
       "  <tbody>\n",
       "    <tr>\n",
       "      <th>0</th>\n",
       "      <td>948</td>\n",
       "      <td>554</td>\n",
       "      <td>Twilight (Twilight  #1)</td>\n",
       "      <td>501</td>\n",
       "      <td>2006-09-06</td>\n",
       "      <td>176</td>\n",
       "      <td>554</td>\n",
       "      <td>Stephenie Meyer</td>\n",
       "      <td>176</td>\n",
       "      <td>Little  Brown and Company</td>\n",
       "    </tr>\n",
       "  </tbody>\n",
       "</table>\n",
       "</div>"
      ],
      "text/plain": [
       "   book_id  author_id                    title  num_pages publication_date  \\\n",
       "0      948        554  Twilight (Twilight  #1)        501       2006-09-06   \n",
       "\n",
       "   publisher_id  author_id           author  publisher_id  \\\n",
       "0           176        554  Stephenie Meyer           176   \n",
       "\n",
       "                   publisher  \n",
       "0  Little  Brown and Company  "
      ]
     },
     "execution_count": 20,
     "metadata": {},
     "output_type": "execute_result"
    }
   ],
   "source": [
    "query4_1 = '''\n",
    "            SELECT *\n",
    "            FROM books AS b\n",
    "            JOIN authors AS a ON b.author_id = a.author_id\n",
    "            JOIN publishers AS p ON b.publisher_id = p.publisher_id\n",
    "            WHERE b.book_id = 948\n",
    "        '''\n",
    "select(query4_1)"
   ]
  },
  {
   "cell_type": "markdown",
   "metadata": {},
   "source": [
    "***Вывод:***\n",
    "Наибольшее количество обзоров на книгу Twilight (Twilight #1). На 2 и 3 местах (с учетом более высокого среднего рейтинга) - 2 книги о Гарри Поттере. В целом, очевидная взаимосвязь среднего рейтинга и количества обзоров не наблюдается."
   ]
  },
  {
   "cell_type": "markdown",
   "metadata": {},
   "source": [
    "## Издательство, которое выпустило наибольшее число книг (толще 50 страниц)"
   ]
  },
  {
   "cell_type": "code",
   "execution_count": 21,
   "metadata": {
    "scrolled": false
   },
   "outputs": [
    {
     "data": {
      "text/html": [
       "<div>\n",
       "<style scoped>\n",
       "    .dataframe tbody tr th:only-of-type {\n",
       "        vertical-align: middle;\n",
       "    }\n",
       "\n",
       "    .dataframe tbody tr th {\n",
       "        vertical-align: top;\n",
       "    }\n",
       "\n",
       "    .dataframe thead th {\n",
       "        text-align: right;\n",
       "    }\n",
       "</style>\n",
       "<table border=\"1\" class=\"dataframe\">\n",
       "  <thead>\n",
       "    <tr style=\"text-align: right;\">\n",
       "      <th></th>\n",
       "      <th>publisher_id</th>\n",
       "      <th>publisher</th>\n",
       "      <th>nmb_books</th>\n",
       "    </tr>\n",
       "  </thead>\n",
       "  <tbody>\n",
       "    <tr>\n",
       "      <th>0</th>\n",
       "      <td>212</td>\n",
       "      <td>Penguin Books</td>\n",
       "      <td>42</td>\n",
       "    </tr>\n",
       "  </tbody>\n",
       "</table>\n",
       "</div>"
      ],
      "text/plain": [
       "   publisher_id      publisher  nmb_books\n",
       "0           212  Penguin Books         42"
      ]
     },
     "execution_count": 21,
     "metadata": {},
     "output_type": "execute_result"
    }
   ],
   "source": [
    "query3 = '''\n",
    "        SELECT p.publisher_id,\n",
    "                p.publisher,\n",
    "                COUNT(DISTINCT b.book_id) AS nmb_books\n",
    "        FROM publishers AS p\n",
    "        LEFT JOIN books AS b ON p.publisher_id = b.publisher_id\n",
    "        WHERE b.num_pages >50\n",
    "        GROUP BY p.publisher_id,p.publisher\n",
    "        ORDER BY nmb_books DESC\n",
    "        LIMIT 1\n",
    "        '''\n",
    "select(query3)\n",
    "\n"
   ]
  },
  {
   "cell_type": "markdown",
   "metadata": {},
   "source": [
    "***Вывод:***\n",
    "Издательство Penguin Books выпустило больше всего (42 шт) уникальных книг, толщиной более 50 страниц."
   ]
  },
  {
   "cell_type": "markdown",
   "metadata": {},
   "source": [
    "## Автор с самой высокой средней оценкой книг (только книги с 50 и более оценками)"
   ]
  },
  {
   "cell_type": "code",
   "execution_count": 22,
   "metadata": {
    "scrolled": true
   },
   "outputs": [
    {
     "data": {
      "text/html": [
       "<div>\n",
       "<style scoped>\n",
       "    .dataframe tbody tr th:only-of-type {\n",
       "        vertical-align: middle;\n",
       "    }\n",
       "\n",
       "    .dataframe tbody tr th {\n",
       "        vertical-align: top;\n",
       "    }\n",
       "\n",
       "    .dataframe thead th {\n",
       "        text-align: right;\n",
       "    }\n",
       "</style>\n",
       "<table border=\"1\" class=\"dataframe\">\n",
       "  <thead>\n",
       "    <tr style=\"text-align: right;\">\n",
       "      <th></th>\n",
       "      <th>author</th>\n",
       "      <th>authors_rating</th>\n",
       "    </tr>\n",
       "  </thead>\n",
       "  <tbody>\n",
       "    <tr>\n",
       "      <th>0</th>\n",
       "      <td>J.K. Rowling/Mary GrandPré</td>\n",
       "      <td>4.28</td>\n",
       "    </tr>\n",
       "  </tbody>\n",
       "</table>\n",
       "</div>"
      ],
      "text/plain": [
       "                       author  authors_rating\n",
       "0  J.K. Rowling/Mary GrandPré            4.28"
      ]
     },
     "execution_count": 22,
     "metadata": {},
     "output_type": "execute_result"
    }
   ],
   "source": [
    "query4 = '''\n",
    "            SELECT DISTINCT author,\n",
    "                    ROUND(AVG(avg_rating) OVER(PARTITION BY author),2) AS authors_rating\n",
    "            FROM \n",
    "                (SELECT a.author,\n",
    "                        b.book_id,\n",
    "                        AVG(rt.rating) AS avg_rating,\n",
    "                        COUNT(rt.rating_id) AS nmb_ratings\n",
    "                FROM books AS b\n",
    "                LEFT JOIN ratings AS rt ON b.book_id = rt.book_id\n",
    "                LEFT JOIN authors AS a ON b.author_id = a.author_id  \n",
    "                GROUP BY b.book_id, a.author) AS auth\n",
    "            WHERE nmb_ratings > 50\n",
    "            ORDER BY authors_rating DESC\n",
    "            LIMIT 1\n",
    "        '''\n",
    "select(query4)"
   ]
  },
  {
   "cell_type": "code",
   "execution_count": 23,
   "metadata": {
    "scrolled": false
   },
   "outputs": [
    {
     "data": {
      "text/html": [
       "<div>\n",
       "<style scoped>\n",
       "    .dataframe tbody tr th:only-of-type {\n",
       "        vertical-align: middle;\n",
       "    }\n",
       "\n",
       "    .dataframe tbody tr th {\n",
       "        vertical-align: top;\n",
       "    }\n",
       "\n",
       "    .dataframe thead th {\n",
       "        text-align: right;\n",
       "    }\n",
       "</style>\n",
       "<table border=\"1\" class=\"dataframe\">\n",
       "  <thead>\n",
       "    <tr style=\"text-align: right;\">\n",
       "      <th></th>\n",
       "      <th>book_id</th>\n",
       "      <th>author_id</th>\n",
       "      <th>title</th>\n",
       "      <th>num_pages</th>\n",
       "      <th>publication_date</th>\n",
       "      <th>publisher_id</th>\n",
       "      <th>author_id</th>\n",
       "      <th>author</th>\n",
       "      <th>publisher_id</th>\n",
       "      <th>publisher</th>\n",
       "    </tr>\n",
       "  </thead>\n",
       "  <tbody>\n",
       "    <tr>\n",
       "      <th>0</th>\n",
       "      <td>298</td>\n",
       "      <td>236</td>\n",
       "      <td>Harry Potter Boxed Set  Books 1-5 (Harry Potte...</td>\n",
       "      <td>2690</td>\n",
       "      <td>2004-09-13</td>\n",
       "      <td>253</td>\n",
       "      <td>236</td>\n",
       "      <td>J.K. Rowling/Mary GrandPré</td>\n",
       "      <td>253</td>\n",
       "      <td>Scholastic</td>\n",
       "    </tr>\n",
       "    <tr>\n",
       "      <th>1</th>\n",
       "      <td>299</td>\n",
       "      <td>236</td>\n",
       "      <td>Harry Potter and the Chamber of Secrets (Harry...</td>\n",
       "      <td>341</td>\n",
       "      <td>1999-06-02</td>\n",
       "      <td>24</td>\n",
       "      <td>236</td>\n",
       "      <td>J.K. Rowling/Mary GrandPré</td>\n",
       "      <td>24</td>\n",
       "      <td>Arthur A. Levine Books / Scholastic Inc.</td>\n",
       "    </tr>\n",
       "    <tr>\n",
       "      <th>2</th>\n",
       "      <td>300</td>\n",
       "      <td>236</td>\n",
       "      <td>Harry Potter and the Half-Blood Prince (Harry ...</td>\n",
       "      <td>652</td>\n",
       "      <td>2006-09-16</td>\n",
       "      <td>255</td>\n",
       "      <td>236</td>\n",
       "      <td>J.K. Rowling/Mary GrandPré</td>\n",
       "      <td>255</td>\n",
       "      <td>Scholastic Inc.</td>\n",
       "    </tr>\n",
       "    <tr>\n",
       "      <th>3</th>\n",
       "      <td>301</td>\n",
       "      <td>236</td>\n",
       "      <td>Harry Potter and the Order of the Phoenix (Har...</td>\n",
       "      <td>870</td>\n",
       "      <td>2004-09-01</td>\n",
       "      <td>255</td>\n",
       "      <td>236</td>\n",
       "      <td>J.K. Rowling/Mary GrandPré</td>\n",
       "      <td>255</td>\n",
       "      <td>Scholastic Inc.</td>\n",
       "    </tr>\n",
       "    <tr>\n",
       "      <th>4</th>\n",
       "      <td>302</td>\n",
       "      <td>236</td>\n",
       "      <td>Harry Potter and the Prisoner of Azkaban (Harr...</td>\n",
       "      <td>435</td>\n",
       "      <td>2004-05-01</td>\n",
       "      <td>255</td>\n",
       "      <td>236</td>\n",
       "      <td>J.K. Rowling/Mary GrandPré</td>\n",
       "      <td>255</td>\n",
       "      <td>Scholastic Inc.</td>\n",
       "    </tr>\n",
       "  </tbody>\n",
       "</table>\n",
       "</div>"
      ],
      "text/plain": [
       "   book_id  author_id                                              title  \\\n",
       "0      298        236  Harry Potter Boxed Set  Books 1-5 (Harry Potte...   \n",
       "1      299        236  Harry Potter and the Chamber of Secrets (Harry...   \n",
       "2      300        236  Harry Potter and the Half-Blood Prince (Harry ...   \n",
       "3      301        236  Harry Potter and the Order of the Phoenix (Har...   \n",
       "4      302        236  Harry Potter and the Prisoner of Azkaban (Harr...   \n",
       "\n",
       "   num_pages publication_date  publisher_id  author_id  \\\n",
       "0       2690       2004-09-13           253        236   \n",
       "1        341       1999-06-02            24        236   \n",
       "2        652       2006-09-16           255        236   \n",
       "3        870       2004-09-01           255        236   \n",
       "4        435       2004-05-01           255        236   \n",
       "\n",
       "                       author  publisher_id  \\\n",
       "0  J.K. Rowling/Mary GrandPré           253   \n",
       "1  J.K. Rowling/Mary GrandPré            24   \n",
       "2  J.K. Rowling/Mary GrandPré           255   \n",
       "3  J.K. Rowling/Mary GrandPré           255   \n",
       "4  J.K. Rowling/Mary GrandPré           255   \n",
       "\n",
       "                                  publisher  \n",
       "0                                Scholastic  \n",
       "1  Arthur A. Levine Books / Scholastic Inc.  \n",
       "2                           Scholastic Inc.  \n",
       "3                           Scholastic Inc.  \n",
       "4                           Scholastic Inc.  "
      ]
     },
     "execution_count": 23,
     "metadata": {},
     "output_type": "execute_result"
    }
   ],
   "source": [
    "query4_1 = '''\n",
    "            SELECT *\n",
    "            FROM books AS b\n",
    "            JOIN authors AS a ON b.author_id = a.author_id\n",
    "            JOIN publishers AS p ON b.publisher_id = p.publisher_id\n",
    "            WHERE a.author = 'J.K. Rowling/Mary GrandPré'\n",
    "        '''\n",
    "select(query4_1)"
   ]
  },
  {
   "cell_type": "markdown",
   "metadata": {},
   "source": [
    "***Вывод:***\n",
    "Самая овысокая средняя оценка книг у Дж.Роулинг с книгами о Гарри Поттере."
   ]
  },
  {
   "cell_type": "markdown",
   "metadata": {},
   "source": [
    "## Среднее количество обзоров от пользователей, которые поставили больше 50 оценок"
   ]
  },
  {
   "cell_type": "code",
   "execution_count": 24,
   "metadata": {
    "scrolled": true
   },
   "outputs": [
    {
     "data": {
      "text/html": [
       "<div>\n",
       "<style scoped>\n",
       "    .dataframe tbody tr th:only-of-type {\n",
       "        vertical-align: middle;\n",
       "    }\n",
       "\n",
       "    .dataframe tbody tr th {\n",
       "        vertical-align: top;\n",
       "    }\n",
       "\n",
       "    .dataframe thead th {\n",
       "        text-align: right;\n",
       "    }\n",
       "</style>\n",
       "<table border=\"1\" class=\"dataframe\">\n",
       "  <thead>\n",
       "    <tr style=\"text-align: right;\">\n",
       "      <th></th>\n",
       "      <th>avg_numb_of_reviews</th>\n",
       "    </tr>\n",
       "  </thead>\n",
       "  <tbody>\n",
       "    <tr>\n",
       "      <th>0</th>\n",
       "      <td>24.333333</td>\n",
       "    </tr>\n",
       "  </tbody>\n",
       "</table>\n",
       "</div>"
      ],
      "text/plain": [
       "   avg_numb_of_reviews\n",
       "0            24.333333"
      ]
     },
     "execution_count": 24,
     "metadata": {},
     "output_type": "execute_result"
    }
   ],
   "source": [
    "query5 = '''\n",
    "            SELECT CAST(COUNT(review_id) AS float)/CAST(COUNT(DISTINCT username) AS float) AS avg_numb_of_reviews\n",
    "            FROM reviews\n",
    "            WHERE username IN (SELECT username\n",
    "                                FROM ratings\n",
    "                                GROUP BY username\n",
    "                                HAVING COUNT(rating_id)>50)\n",
    "            \n",
    "        '''\n",
    "select(query5)"
   ]
  },
  {
   "cell_type": "markdown",
   "metadata": {},
   "source": [
    "***Вывод:***\n",
    "Среднее количество обзоров у тех пользователей, кто поставил больше 50 оценок, составляет 24,33."
   ]
  },
  {
   "cell_type": "markdown",
   "metadata": {},
   "source": [
    "## Общие выводы"
   ]
  },
  {
   "cell_type": "markdown",
   "metadata": {},
   "source": [
    "- В исходных данных содержится информация 1000 уникальных id книг, среди которых одна переиздавалась дважды. Только для 994 книг из 1000 представлена вся информация об авторах, издательствах, рейтингах и оценках. У 6 книг недостает обзоров;\n",
    "- книги издавались в период с 1952 по 2020 годы, но 82% из них изданы после 1 января 2000 года;\n",
    "- 160 пользователей оставили 6 456 оценок и 2 793 обзора. Только 6 пользователей (4%) оставили более 50 оценок (это минимум 5% всех оценок), среднее количество обзоров, оставленных ими же,  = 24.33 (тоже около 5% от всех обзоров). \n",
    "- Наибольшее количество обзоров у книги Twilight (Twilight #1) - 7 шт. На 2 и 3 местах (с учетом более высокого среднего рейтинга) - 2 книги о Гарри Поттере, у которых по 6 обзоров. В целом, очевидная взаимосвязь среднего рейтинга и количества обзоров не наблюдается.\n",
    "- Из 340 издательств наибольшее количество книг (42 шт) выпустило Penguin Books, которое не выпускало самые популярные по рейтингу и обзорам книги о Гарри Поттере и Сумерках;\n",
    "- Из 636 авторов, которых оценили более 50 раз, самая высокая оценка (4.28) у Джоан Роулинг.\n",
    "\n",
    "Из анализа следует, что в данных содержатся в основном книги, изданные в 21 веке, наиболее популярными из которых являются книги о Гарри Поттере и Сумерках, что скорее свидетельствует о более молодой аудитории пользователей. "
   ]
  }
 ],
 "metadata": {
  "ExecuteTimeLog": [
   {
    "duration": 9421,
    "start_time": "2023-02-07T15:45:47.646Z"
   },
   {
    "duration": 2,
    "start_time": "2023-02-07T17:10:13.796Z"
   },
   {
    "duration": 284,
    "start_time": "2023-02-07T17:11:38.343Z"
   },
   {
    "duration": 73,
    "start_time": "2023-02-07T18:06:12.239Z"
   },
   {
    "duration": 70,
    "start_time": "2023-02-07T18:08:06.996Z"
   },
   {
    "duration": 69,
    "start_time": "2023-02-07T18:08:44.166Z"
   },
   {
    "duration": 70,
    "start_time": "2023-02-07T18:08:48.086Z"
   },
   {
    "duration": 70,
    "start_time": "2023-02-07T18:08:52.790Z"
   },
   {
    "duration": 72,
    "start_time": "2023-02-07T18:09:15.424Z"
   },
   {
    "duration": 72,
    "start_time": "2023-02-07T18:09:39.110Z"
   },
   {
    "duration": 71,
    "start_time": "2023-02-07T18:09:52.104Z"
   },
   {
    "duration": 70,
    "start_time": "2023-02-07T18:30:20.260Z"
   },
   {
    "duration": 76,
    "start_time": "2023-02-07T18:30:55.668Z"
   },
   {
    "duration": 68,
    "start_time": "2023-02-07T18:35:13.179Z"
   },
   {
    "duration": 70,
    "start_time": "2023-02-07T18:36:33.659Z"
   },
   {
    "duration": 71,
    "start_time": "2023-02-07T18:36:40.068Z"
   },
   {
    "duration": 68,
    "start_time": "2023-02-07T18:36:47.605Z"
   },
   {
    "duration": 69,
    "start_time": "2023-02-07T18:36:54.543Z"
   },
   {
    "duration": 72,
    "start_time": "2023-02-07T18:37:01.374Z"
   },
   {
    "duration": 71,
    "start_time": "2023-02-07T18:37:08.009Z"
   },
   {
    "duration": 144,
    "start_time": "2023-02-07T18:37:48.201Z"
   },
   {
    "duration": 1789,
    "start_time": "2023-02-07T18:38:09.868Z"
   },
   {
    "duration": 66,
    "start_time": "2023-02-07T18:40:25.879Z"
   },
   {
    "duration": 72,
    "start_time": "2023-02-07T18:40:29.947Z"
   },
   {
    "duration": 71,
    "start_time": "2023-02-07T18:41:04.024Z"
   },
   {
    "duration": 71,
    "start_time": "2023-02-07T18:41:19.572Z"
   },
   {
    "duration": 68,
    "start_time": "2023-02-07T18:42:53.933Z"
   },
   {
    "duration": 81,
    "start_time": "2023-02-07T18:43:00.993Z"
   },
   {
    "duration": 75,
    "start_time": "2023-02-07T18:43:56.904Z"
   },
   {
    "duration": 71,
    "start_time": "2023-02-07T18:44:13.524Z"
   },
   {
    "duration": 80,
    "start_time": "2023-02-07T18:44:28.800Z"
   },
   {
    "duration": 164,
    "start_time": "2023-02-07T18:45:18.954Z"
   },
   {
    "duration": 158,
    "start_time": "2023-02-07T18:45:53.459Z"
   },
   {
    "duration": 72,
    "start_time": "2023-02-07T18:47:43.557Z"
   },
   {
    "duration": 13,
    "start_time": "2023-02-07T18:47:48.383Z"
   },
   {
    "duration": 70,
    "start_time": "2023-02-07T18:48:07.644Z"
   },
   {
    "duration": 162,
    "start_time": "2023-02-07T18:48:10.983Z"
   },
   {
    "duration": 158,
    "start_time": "2023-02-07T18:48:14.706Z"
   },
   {
    "duration": 149,
    "start_time": "2023-02-07T19:15:38.536Z"
   },
   {
    "duration": 153,
    "start_time": "2023-02-07T19:15:48.928Z"
   },
   {
    "duration": 154,
    "start_time": "2023-02-07T19:16:05.453Z"
   },
   {
    "duration": 159,
    "start_time": "2023-02-07T19:19:19.480Z"
   },
   {
    "duration": 157,
    "start_time": "2023-02-07T19:19:32.155Z"
   },
   {
    "duration": 151,
    "start_time": "2023-02-07T19:19:57.053Z"
   },
   {
    "duration": 108,
    "start_time": "2023-02-07T19:20:14.835Z"
   },
   {
    "duration": 104,
    "start_time": "2023-02-07T19:20:43.948Z"
   },
   {
    "duration": 104,
    "start_time": "2023-02-07T19:20:48.449Z"
   },
   {
    "duration": 116,
    "start_time": "2023-02-07T19:24:52.466Z"
   },
   {
    "duration": 68,
    "start_time": "2023-02-07T19:25:42.835Z"
   },
   {
    "duration": 105,
    "start_time": "2023-02-07T19:26:01.148Z"
   },
   {
    "duration": 106,
    "start_time": "2023-02-07T19:26:16.853Z"
   },
   {
    "duration": 104,
    "start_time": "2023-02-07T19:27:08.763Z"
   },
   {
    "duration": 102,
    "start_time": "2023-02-07T19:27:57.439Z"
   },
   {
    "duration": 146,
    "start_time": "2023-02-07T19:28:21.585Z"
   },
   {
    "duration": 95,
    "start_time": "2023-02-07T19:28:27.433Z"
   },
   {
    "duration": 81,
    "start_time": "2023-02-07T19:28:31.318Z"
   },
   {
    "duration": 70,
    "start_time": "2023-02-07T19:28:41.120Z"
   },
   {
    "duration": 124,
    "start_time": "2023-02-07T19:28:49.839Z"
   },
   {
    "duration": 116,
    "start_time": "2023-02-07T19:29:05.008Z"
   },
   {
    "duration": 42,
    "start_time": "2023-02-08T04:35:51.905Z"
   },
   {
    "duration": 8792,
    "start_time": "2023-02-08T04:35:57.601Z"
   },
   {
    "duration": 3,
    "start_time": "2023-02-08T04:36:06.395Z"
   },
   {
    "duration": 286,
    "start_time": "2023-02-08T04:36:06.399Z"
   },
   {
    "duration": 72,
    "start_time": "2023-02-08T04:36:06.687Z"
   },
   {
    "duration": 74,
    "start_time": "2023-02-08T04:36:06.761Z"
   },
   {
    "duration": 104,
    "start_time": "2023-02-08T04:36:06.837Z"
   },
   {
    "duration": 92,
    "start_time": "2023-02-08T04:36:06.943Z"
   },
   {
    "duration": 73,
    "start_time": "2023-02-08T04:36:07.037Z"
   },
   {
    "duration": 91,
    "start_time": "2023-02-08T04:36:07.112Z"
   },
   {
    "duration": 145,
    "start_time": "2023-02-08T04:36:07.207Z"
   },
   {
    "duration": 142,
    "start_time": "2023-02-08T04:36:07.354Z"
   },
   {
    "duration": 12,
    "start_time": "2023-02-08T04:36:07.498Z"
   },
   {
    "duration": 83,
    "start_time": "2023-02-08T04:36:31.807Z"
   },
   {
    "duration": 71,
    "start_time": "2023-02-08T04:41:11.910Z"
   },
   {
    "duration": 72,
    "start_time": "2023-02-08T04:41:19.067Z"
   },
   {
    "duration": 70,
    "start_time": "2023-02-08T04:41:40.468Z"
   },
   {
    "duration": 70,
    "start_time": "2023-02-08T04:42:24.358Z"
   },
   {
    "duration": 70,
    "start_time": "2023-02-08T04:42:42.222Z"
   },
   {
    "duration": 74,
    "start_time": "2023-02-08T04:43:22.209Z"
   },
   {
    "duration": 568,
    "start_time": "2023-02-08T04:46:23.058Z"
   },
   {
    "duration": 73,
    "start_time": "2023-02-08T04:48:10.978Z"
   },
   {
    "duration": 70,
    "start_time": "2023-02-08T04:48:44.291Z"
   },
   {
    "duration": 241,
    "start_time": "2023-02-08T04:49:30.345Z"
   },
   {
    "duration": 75,
    "start_time": "2023-02-08T04:49:45.336Z"
   },
   {
    "duration": 71,
    "start_time": "2023-02-08T04:49:54.365Z"
   },
   {
    "duration": 70,
    "start_time": "2023-02-08T04:50:07.018Z"
   },
   {
    "duration": 71,
    "start_time": "2023-02-08T04:50:47.085Z"
   },
   {
    "duration": 73,
    "start_time": "2023-02-08T04:50:49.428Z"
   },
   {
    "duration": 71,
    "start_time": "2023-02-08T04:50:51.747Z"
   },
   {
    "duration": 70,
    "start_time": "2023-02-08T04:50:59.042Z"
   },
   {
    "duration": 70,
    "start_time": "2023-02-08T04:51:16.037Z"
   },
   {
    "duration": 158,
    "start_time": "2023-02-08T04:52:02.766Z"
   },
   {
    "duration": 156,
    "start_time": "2023-02-08T04:52:07.345Z"
   },
   {
    "duration": 70,
    "start_time": "2023-02-08T04:52:14.225Z"
   },
   {
    "duration": 74,
    "start_time": "2023-02-08T04:55:45.020Z"
   },
   {
    "duration": 76,
    "start_time": "2023-02-08T04:57:35.271Z"
   },
   {
    "duration": 84,
    "start_time": "2023-02-08T05:00:14.158Z"
   },
   {
    "duration": 78,
    "start_time": "2023-02-08T05:00:49.007Z"
   },
   {
    "duration": 79,
    "start_time": "2023-02-08T05:00:56.310Z"
   },
   {
    "duration": 160,
    "start_time": "2023-02-08T05:01:10.309Z"
   },
   {
    "duration": 75,
    "start_time": "2023-02-08T05:02:22.172Z"
   },
   {
    "duration": 69,
    "start_time": "2023-02-08T05:11:04.425Z"
   },
   {
    "duration": 160,
    "start_time": "2023-02-08T05:11:09.800Z"
   },
   {
    "duration": 171,
    "start_time": "2023-02-08T05:12:58.341Z"
   },
   {
    "duration": 79,
    "start_time": "2023-02-08T05:13:15.821Z"
   },
   {
    "duration": 78,
    "start_time": "2023-02-08T05:13:40.161Z"
   },
   {
    "duration": 75,
    "start_time": "2023-02-08T05:14:12.271Z"
   },
   {
    "duration": 68,
    "start_time": "2023-02-08T05:14:22.576Z"
   },
   {
    "duration": 76,
    "start_time": "2023-02-08T05:14:29.141Z"
   },
   {
    "duration": 394,
    "start_time": "2023-02-08T05:14:59.110Z"
   },
   {
    "duration": 76,
    "start_time": "2023-02-08T05:15:34.631Z"
   },
   {
    "duration": 105,
    "start_time": "2023-02-08T05:16:50.550Z"
   },
   {
    "duration": 108,
    "start_time": "2023-02-08T05:18:27.255Z"
   },
   {
    "duration": 114,
    "start_time": "2023-02-08T05:20:40.947Z"
   },
   {
    "duration": 120,
    "start_time": "2023-02-08T05:21:14.850Z"
   },
   {
    "duration": 94,
    "start_time": "2023-02-08T05:21:24.880Z"
   },
   {
    "duration": 161,
    "start_time": "2023-02-08T05:22:21.456Z"
   },
   {
    "duration": 110,
    "start_time": "2023-02-08T05:22:34.170Z"
   },
   {
    "duration": 109,
    "start_time": "2023-02-08T05:23:01.605Z"
   },
   {
    "duration": 161,
    "start_time": "2023-02-08T05:23:43.485Z"
   },
   {
    "duration": 166,
    "start_time": "2023-02-08T05:23:57.496Z"
   },
   {
    "duration": 114,
    "start_time": "2023-02-08T05:24:02.560Z"
   },
   {
    "duration": 112,
    "start_time": "2023-02-08T05:25:00.365Z"
   },
   {
    "duration": 115,
    "start_time": "2023-02-08T05:25:48.969Z"
   },
   {
    "duration": 128,
    "start_time": "2023-02-08T05:26:42.175Z"
   },
   {
    "duration": 99,
    "start_time": "2023-02-08T05:26:56.505Z"
   },
   {
    "duration": 160,
    "start_time": "2023-02-08T05:27:52.019Z"
   },
   {
    "duration": 147,
    "start_time": "2023-02-08T05:27:55.844Z"
   },
   {
    "duration": 136,
    "start_time": "2023-02-08T05:28:00.873Z"
   },
   {
    "duration": 97,
    "start_time": "2023-02-08T05:30:14.098Z"
   },
   {
    "duration": 116,
    "start_time": "2023-02-08T05:52:00.722Z"
   },
   {
    "duration": 119,
    "start_time": "2023-02-08T05:52:03.420Z"
   },
   {
    "duration": 150,
    "start_time": "2023-02-08T05:53:08.140Z"
   },
   {
    "duration": 125,
    "start_time": "2023-02-08T05:53:16.220Z"
   },
   {
    "duration": 71,
    "start_time": "2023-02-08T05:57:08.067Z"
   },
   {
    "duration": 179,
    "start_time": "2023-02-08T05:57:21.947Z"
   },
   {
    "duration": 71,
    "start_time": "2023-02-08T05:57:27.594Z"
   },
   {
    "duration": 73,
    "start_time": "2023-02-08T05:58:19.745Z"
   },
   {
    "duration": 126,
    "start_time": "2023-02-08T06:03:57.626Z"
   },
   {
    "duration": 121,
    "start_time": "2023-02-08T06:04:04.407Z"
   },
   {
    "duration": 227,
    "start_time": "2023-02-08T06:30:04.563Z"
   },
   {
    "duration": 84,
    "start_time": "2023-02-08T06:30:16.933Z"
   },
   {
    "duration": 106,
    "start_time": "2023-02-08T06:33:52.369Z"
   },
   {
    "duration": 82,
    "start_time": "2023-02-08T06:34:14.498Z"
   },
   {
    "duration": 82,
    "start_time": "2023-02-08T07:08:14.494Z"
   },
   {
    "duration": 406,
    "start_time": "2023-02-08T07:09:11.026Z"
   },
   {
    "duration": 82,
    "start_time": "2023-02-08T07:09:59.493Z"
   },
   {
    "duration": 79,
    "start_time": "2023-02-08T07:10:02.634Z"
   },
   {
    "duration": 155,
    "start_time": "2023-02-08T07:10:18.127Z"
   },
   {
    "duration": 166,
    "start_time": "2023-02-08T07:10:20.637Z"
   },
   {
    "duration": 88,
    "start_time": "2023-02-08T07:10:31.257Z"
   },
   {
    "duration": 75,
    "start_time": "2023-02-08T07:10:58.396Z"
   },
   {
    "duration": 75,
    "start_time": "2023-02-08T07:11:04.116Z"
   },
   {
    "duration": 77,
    "start_time": "2023-02-08T07:11:11.779Z"
   },
   {
    "duration": 82,
    "start_time": "2023-02-08T07:11:32.026Z"
   },
   {
    "duration": 415,
    "start_time": "2023-02-08T07:12:24.845Z"
   },
   {
    "duration": 175,
    "start_time": "2023-02-08T07:12:50.666Z"
   },
   {
    "duration": 79,
    "start_time": "2023-02-08T07:13:10.335Z"
   },
   {
    "duration": 420,
    "start_time": "2023-02-08T07:13:31.835Z"
   },
   {
    "duration": 189,
    "start_time": "2023-02-08T07:14:05.398Z"
   },
   {
    "duration": 170,
    "start_time": "2023-02-08T07:14:08.575Z"
   },
   {
    "duration": 83,
    "start_time": "2023-02-08T07:14:15.205Z"
   },
   {
    "duration": 83,
    "start_time": "2023-02-08T07:15:23.927Z"
   },
   {
    "duration": 157,
    "start_time": "2023-02-08T07:37:03.395Z"
   },
   {
    "duration": 80,
    "start_time": "2023-02-08T07:37:22.534Z"
   },
   {
    "duration": 84,
    "start_time": "2023-02-08T07:37:38.153Z"
   },
   {
    "duration": 79,
    "start_time": "2023-02-08T07:39:04.740Z"
   },
   {
    "duration": 79,
    "start_time": "2023-02-08T07:39:10.835Z"
   },
   {
    "duration": 163,
    "start_time": "2023-02-08T07:46:57.385Z"
   },
   {
    "duration": 72,
    "start_time": "2023-02-08T07:47:05.096Z"
   },
   {
    "duration": 73,
    "start_time": "2023-02-08T10:07:12.216Z"
   },
   {
    "duration": 167,
    "start_time": "2023-02-08T10:31:22.484Z"
   },
   {
    "duration": 159,
    "start_time": "2023-02-08T10:33:39.574Z"
   },
   {
    "duration": 155,
    "start_time": "2023-02-08T10:34:12.581Z"
   },
   {
    "duration": 157,
    "start_time": "2023-02-08T10:35:23.010Z"
   },
   {
    "duration": 164,
    "start_time": "2023-02-08T10:36:10.603Z"
   },
   {
    "duration": 162,
    "start_time": "2023-02-08T10:36:24.759Z"
   },
   {
    "duration": 158,
    "start_time": "2023-02-08T10:38:26.115Z"
   },
   {
    "duration": 161,
    "start_time": "2023-02-08T10:38:50.435Z"
   },
   {
    "duration": 160,
    "start_time": "2023-02-08T10:39:41.149Z"
   },
   {
    "duration": 155,
    "start_time": "2023-02-08T10:40:18.291Z"
   },
   {
    "duration": 152,
    "start_time": "2023-02-08T10:40:31.630Z"
   },
   {
    "duration": 98,
    "start_time": "2023-02-08T10:41:03.465Z"
   },
   {
    "duration": 94,
    "start_time": "2023-02-08T10:41:17.209Z"
   },
   {
    "duration": 81,
    "start_time": "2023-02-08T10:42:04.510Z"
   },
   {
    "duration": 80,
    "start_time": "2023-02-08T10:42:55.444Z"
   },
   {
    "duration": 77,
    "start_time": "2023-02-08T10:44:22.398Z"
   },
   {
    "duration": 155,
    "start_time": "2023-02-08T12:19:52.238Z"
   },
   {
    "duration": 159,
    "start_time": "2023-02-08T12:20:36.527Z"
   },
   {
    "duration": 75,
    "start_time": "2023-02-08T12:20:59.866Z"
   },
   {
    "duration": 165,
    "start_time": "2023-02-08T12:21:31.117Z"
   },
   {
    "duration": 79,
    "start_time": "2023-02-08T12:22:27.555Z"
   },
   {
    "duration": 75,
    "start_time": "2023-02-08T12:38:38.625Z"
   },
   {
    "duration": 73,
    "start_time": "2023-02-08T12:39:35.253Z"
   },
   {
    "duration": 158,
    "start_time": "2023-02-08T12:40:55.492Z"
   },
   {
    "duration": 151,
    "start_time": "2023-02-08T12:41:28.258Z"
   },
   {
    "duration": 75,
    "start_time": "2023-02-08T12:43:53.164Z"
   },
   {
    "duration": 79,
    "start_time": "2023-02-08T12:47:00.572Z"
   },
   {
    "duration": 8741,
    "start_time": "2023-02-08T12:47:22.419Z"
   },
   {
    "duration": 3,
    "start_time": "2023-02-08T12:47:31.163Z"
   },
   {
    "duration": 301,
    "start_time": "2023-02-08T12:47:31.168Z"
   },
   {
    "duration": 80,
    "start_time": "2023-02-08T12:47:31.471Z"
   },
   {
    "duration": 83,
    "start_time": "2023-02-08T12:47:31.553Z"
   },
   {
    "duration": 89,
    "start_time": "2023-02-08T12:47:31.638Z"
   },
   {
    "duration": 84,
    "start_time": "2023-02-08T12:47:31.729Z"
   },
   {
    "duration": 76,
    "start_time": "2023-02-08T12:47:31.815Z"
   },
   {
    "duration": 87,
    "start_time": "2023-02-08T12:47:31.893Z"
   },
   {
    "duration": 79,
    "start_time": "2023-02-08T12:47:31.983Z"
   },
   {
    "duration": 82,
    "start_time": "2023-02-08T12:47:32.064Z"
   },
   {
    "duration": 89,
    "start_time": "2023-02-08T12:47:32.148Z"
   },
   {
    "duration": 133,
    "start_time": "2023-02-08T12:47:32.238Z"
   },
   {
    "duration": 84,
    "start_time": "2023-02-08T12:47:32.372Z"
   },
   {
    "duration": 141,
    "start_time": "2023-02-08T12:47:32.457Z"
   },
   {
    "duration": 83,
    "start_time": "2023-02-08T12:47:32.599Z"
   },
   {
    "duration": 84,
    "start_time": "2023-02-08T12:47:32.683Z"
   },
   {
    "duration": 122,
    "start_time": "2023-02-08T12:47:32.769Z"
   },
   {
    "duration": 80,
    "start_time": "2023-02-08T12:47:32.893Z"
   },
   {
    "duration": 87,
    "start_time": "2023-02-08T12:47:32.975Z"
   },
   {
    "duration": 76,
    "start_time": "2023-02-08T12:47:33.064Z"
   },
   {
    "duration": 87,
    "start_time": "2023-02-08T12:47:33.142Z"
   },
   {
    "duration": 237,
    "start_time": "2023-02-08T12:47:33.231Z"
   },
   {
    "duration": 0,
    "start_time": "2023-02-08T12:47:33.470Z"
   },
   {
    "duration": 0,
    "start_time": "2023-02-08T12:47:33.471Z"
   },
   {
    "duration": 0,
    "start_time": "2023-02-08T12:47:33.473Z"
   },
   {
    "duration": 0,
    "start_time": "2023-02-08T12:47:33.474Z"
   },
   {
    "duration": 192,
    "start_time": "2023-02-08T12:49:57.653Z"
   },
   {
    "duration": 74,
    "start_time": "2023-02-08T12:50:06.011Z"
   },
   {
    "duration": 162,
    "start_time": "2023-02-08T12:52:02.277Z"
   },
   {
    "duration": 176,
    "start_time": "2023-02-08T12:52:08.109Z"
   },
   {
    "duration": 200,
    "start_time": "2023-02-08T12:52:14.523Z"
   },
   {
    "duration": 157,
    "start_time": "2023-02-08T12:52:21.447Z"
   },
   {
    "duration": 78,
    "start_time": "2023-02-08T12:54:56.822Z"
   },
   {
    "duration": 78,
    "start_time": "2023-02-08T12:55:12.791Z"
   },
   {
    "duration": 77,
    "start_time": "2023-02-08T12:56:11.487Z"
   },
   {
    "duration": 76,
    "start_time": "2023-02-08T12:56:18.342Z"
   },
   {
    "duration": 187,
    "start_time": "2023-02-08T12:56:28.662Z"
   },
   {
    "duration": 158,
    "start_time": "2023-02-08T12:56:37.322Z"
   },
   {
    "duration": 89,
    "start_time": "2023-02-08T12:56:55.182Z"
   },
   {
    "duration": 76,
    "start_time": "2023-02-08T12:57:08.082Z"
   },
   {
    "duration": 169,
    "start_time": "2023-02-08T12:57:19.797Z"
   },
   {
    "duration": 162,
    "start_time": "2023-02-08T12:57:25.312Z"
   },
   {
    "duration": 164,
    "start_time": "2023-02-08T12:57:45.392Z"
   },
   {
    "duration": 169,
    "start_time": "2023-02-08T12:57:48.830Z"
   },
   {
    "duration": 85,
    "start_time": "2023-02-08T12:57:51.886Z"
   },
   {
    "duration": 170,
    "start_time": "2023-02-08T12:58:13.102Z"
   },
   {
    "duration": 75,
    "start_time": "2023-02-08T12:58:20.782Z"
   },
   {
    "duration": 160,
    "start_time": "2023-02-08T12:58:35.057Z"
   },
   {
    "duration": 74,
    "start_time": "2023-02-08T12:58:41.432Z"
   },
   {
    "duration": 75,
    "start_time": "2023-02-08T12:59:07.317Z"
   },
   {
    "duration": 74,
    "start_time": "2023-02-08T12:59:20.106Z"
   },
   {
    "duration": 158,
    "start_time": "2023-02-08T12:59:39.712Z"
   },
   {
    "duration": 75,
    "start_time": "2023-02-08T12:59:42.866Z"
   },
   {
    "duration": 77,
    "start_time": "2023-02-08T12:59:50.512Z"
   },
   {
    "duration": 168,
    "start_time": "2023-02-08T13:00:11.021Z"
   },
   {
    "duration": 88,
    "start_time": "2023-02-08T13:01:06.041Z"
   },
   {
    "duration": 81,
    "start_time": "2023-02-08T13:01:28.161Z"
   },
   {
    "duration": 157,
    "start_time": "2023-02-08T13:02:13.019Z"
   },
   {
    "duration": 75,
    "start_time": "2023-02-08T13:02:24.792Z"
   },
   {
    "duration": 79,
    "start_time": "2023-02-08T13:02:45.892Z"
   },
   {
    "duration": 74,
    "start_time": "2023-02-08T13:03:41.222Z"
   },
   {
    "duration": 79,
    "start_time": "2023-02-08T13:04:05.677Z"
   },
   {
    "duration": 75,
    "start_time": "2023-02-08T13:04:24.227Z"
   },
   {
    "duration": 76,
    "start_time": "2023-02-08T13:04:35.971Z"
   },
   {
    "duration": 79,
    "start_time": "2023-02-08T13:04:49.383Z"
   },
   {
    "duration": 75,
    "start_time": "2023-02-08T13:05:36.876Z"
   },
   {
    "duration": 77,
    "start_time": "2023-02-08T13:08:26.091Z"
   },
   {
    "duration": 86,
    "start_time": "2023-02-08T13:08:30.285Z"
   },
   {
    "duration": 155,
    "start_time": "2023-02-08T13:08:49.626Z"
   },
   {
    "duration": 74,
    "start_time": "2023-02-08T13:09:52.437Z"
   },
   {
    "duration": 85,
    "start_time": "2023-02-08T13:19:35.997Z"
   },
   {
    "duration": 84,
    "start_time": "2023-02-08T13:19:52.730Z"
   },
   {
    "duration": 85,
    "start_time": "2023-02-08T13:20:32.994Z"
   },
   {
    "duration": 173,
    "start_time": "2023-02-08T13:24:38.539Z"
   },
   {
    "duration": 74,
    "start_time": "2023-02-08T13:24:44.669Z"
   },
   {
    "duration": 92,
    "start_time": "2023-02-08T13:27:35.744Z"
   },
   {
    "duration": 172,
    "start_time": "2023-02-08T13:40:49.658Z"
   },
   {
    "duration": 99,
    "start_time": "2023-02-08T13:41:02.363Z"
   },
   {
    "duration": 158,
    "start_time": "2023-02-08T13:42:05.338Z"
   },
   {
    "duration": 86,
    "start_time": "2023-02-08T13:42:18.327Z"
   },
   {
    "duration": 187,
    "start_time": "2023-02-08T13:45:49.493Z"
   },
   {
    "duration": 179,
    "start_time": "2023-02-08T13:45:51.983Z"
   },
   {
    "duration": 80,
    "start_time": "2023-02-08T13:46:03.668Z"
   },
   {
    "duration": 75,
    "start_time": "2023-02-08T13:49:33.024Z"
   },
   {
    "duration": 162,
    "start_time": "2023-02-08T13:50:22.093Z"
   },
   {
    "duration": 78,
    "start_time": "2023-02-08T13:50:25.443Z"
   },
   {
    "duration": 8868,
    "start_time": "2023-02-08T13:55:25.317Z"
   },
   {
    "duration": 3,
    "start_time": "2023-02-08T13:55:34.187Z"
   },
   {
    "duration": 264,
    "start_time": "2023-02-08T13:55:34.191Z"
   },
   {
    "duration": 73,
    "start_time": "2023-02-08T13:55:34.457Z"
   },
   {
    "duration": 73,
    "start_time": "2023-02-08T13:55:34.532Z"
   },
   {
    "duration": 78,
    "start_time": "2023-02-08T13:55:34.608Z"
   },
   {
    "duration": 72,
    "start_time": "2023-02-08T13:55:34.688Z"
   },
   {
    "duration": 71,
    "start_time": "2023-02-08T13:55:34.762Z"
   },
   {
    "duration": 71,
    "start_time": "2023-02-08T13:55:34.835Z"
   },
   {
    "duration": 70,
    "start_time": "2023-02-08T13:55:34.909Z"
   },
   {
    "duration": 76,
    "start_time": "2023-02-08T13:55:34.981Z"
   },
   {
    "duration": 77,
    "start_time": "2023-02-08T13:55:35.058Z"
   },
   {
    "duration": 73,
    "start_time": "2023-02-08T13:55:35.137Z"
   },
   {
    "duration": 77,
    "start_time": "2023-02-08T13:55:35.212Z"
   },
   {
    "duration": 117,
    "start_time": "2023-02-08T13:55:35.291Z"
   },
   {
    "duration": 73,
    "start_time": "2023-02-08T13:55:35.410Z"
   },
   {
    "duration": 70,
    "start_time": "2023-02-08T13:55:35.485Z"
   },
   {
    "duration": 81,
    "start_time": "2023-02-08T13:55:35.556Z"
   },
   {
    "duration": 79,
    "start_time": "2023-02-08T13:55:35.639Z"
   },
   {
    "duration": 74,
    "start_time": "2023-02-08T13:55:35.720Z"
   },
   {
    "duration": 72,
    "start_time": "2023-02-08T13:55:35.796Z"
   },
   {
    "duration": 75,
    "start_time": "2023-02-08T13:55:35.870Z"
   },
   {
    "duration": 77,
    "start_time": "2023-02-08T13:55:35.948Z"
   },
   {
    "duration": 73,
    "start_time": "2023-02-08T13:55:36.028Z"
   },
   {
    "duration": 6385,
    "start_time": "2023-02-08T14:12:23.770Z"
   },
   {
    "duration": 3,
    "start_time": "2023-02-08T14:12:30.157Z"
   },
   {
    "duration": 277,
    "start_time": "2023-02-08T14:12:30.162Z"
   },
   {
    "duration": 79,
    "start_time": "2023-02-08T14:12:30.440Z"
   },
   {
    "duration": 74,
    "start_time": "2023-02-08T14:12:30.522Z"
   },
   {
    "duration": 74,
    "start_time": "2023-02-08T14:12:30.597Z"
   },
   {
    "duration": 73,
    "start_time": "2023-02-08T14:12:30.673Z"
   },
   {
    "duration": 72,
    "start_time": "2023-02-08T14:12:30.748Z"
   },
   {
    "duration": 71,
    "start_time": "2023-02-08T14:12:30.822Z"
   },
   {
    "duration": 71,
    "start_time": "2023-02-08T14:12:30.895Z"
   },
   {
    "duration": 77,
    "start_time": "2023-02-08T14:12:30.968Z"
   },
   {
    "duration": 97,
    "start_time": "2023-02-08T14:12:31.046Z"
   },
   {
    "duration": 73,
    "start_time": "2023-02-08T14:12:31.144Z"
   },
   {
    "duration": 83,
    "start_time": "2023-02-08T14:12:31.219Z"
   },
   {
    "duration": 118,
    "start_time": "2023-02-08T14:12:31.304Z"
   },
   {
    "duration": 74,
    "start_time": "2023-02-08T14:12:31.424Z"
   },
   {
    "duration": 70,
    "start_time": "2023-02-08T14:12:31.500Z"
   },
   {
    "duration": 81,
    "start_time": "2023-02-08T14:12:31.571Z"
   },
   {
    "duration": 81,
    "start_time": "2023-02-08T14:12:31.653Z"
   },
   {
    "duration": 76,
    "start_time": "2023-02-08T14:12:31.736Z"
   },
   {
    "duration": 76,
    "start_time": "2023-02-08T14:12:31.814Z"
   },
   {
    "duration": 80,
    "start_time": "2023-02-08T14:12:31.891Z"
   },
   {
    "duration": 78,
    "start_time": "2023-02-08T14:12:31.973Z"
   },
   {
    "duration": 73,
    "start_time": "2023-02-08T14:12:32.053Z"
   },
   {
    "duration": 107,
    "start_time": "2023-02-08T14:13:03.653Z"
   }
  ],
  "kernelspec": {
   "display_name": "Python 3 (ipykernel)",
   "language": "python",
   "name": "python3"
  },
  "language_info": {
   "codemirror_mode": {
    "name": "ipython",
    "version": 3
   },
   "file_extension": ".py",
   "mimetype": "text/x-python",
   "name": "python",
   "nbconvert_exporter": "python",
   "pygments_lexer": "ipython3",
   "version": "3.11.4"
  },
  "toc": {
   "base_numbering": 1,
   "nav_menu": {},
   "number_sections": true,
   "sideBar": true,
   "skip_h1_title": true,
   "title_cell": "Table of Contents",
   "title_sidebar": "Contents",
   "toc_cell": false,
   "toc_position": {
    "height": "calc(100% - 180px)",
    "left": "10px",
    "top": "150px",
    "width": "323.75px"
   },
   "toc_section_display": true,
   "toc_window_display": true
  }
 },
 "nbformat": 4,
 "nbformat_minor": 2
}
